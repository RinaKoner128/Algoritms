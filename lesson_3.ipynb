{
  "cells": [
    {
      "cell_type": "markdown",
      "id": "computational-affairs",
      "metadata": {
        "id": "computational-affairs"
      },
      "source": [
        "## <center> Практическое задание к лекции №3"
      ]
    },
    {
      "cell_type": "code",
      "execution_count": 1,
      "id": "structured-thanksgiving",
      "metadata": {
        "id": "structured-thanksgiving"
      },
      "outputs": [],
      "source": [
        "import numpy as np\n",
        "import pandas as pd\n",
        "import matplotlib.pyplot as plt\n",
        "\n",
        "\n",
        "%matplotlib inline"
      ]
    },
    {
      "cell_type": "markdown",
      "id": "interpreted-uncle",
      "metadata": {
        "id": "interpreted-uncle"
      },
      "source": [
        "### Вводные условия"
      ]
    },
    {
      "cell_type": "code",
      "execution_count": 2,
      "id": "designing-surfing",
      "metadata": {
        "id": "designing-surfing"
      },
      "outputs": [],
      "source": [
        "X = np.array([[1, 1, 1, 1, 1, 1, 1, 1, 1, 1],\n",
        "              [1, 1, 2, 1, 3, 0, 5, 10, 1, 2],\n",
        "              [500, 700, 750, 600, 1450,\n",
        "               800, 1500, 2000, 450, 1000],\n",
        "              [1, 1, 2, 1, 2, 1, 3, 3, 1, 2]], dtype = np.float64)\n",
        "\n",
        "y = np.array([0, 0, 1, 0, 1, 0, 1, 0, 1, 1], dtype = np.float64)"
      ]
    },
    {
      "cell_type": "code",
      "execution_count": 3,
      "id": "speaking-baker",
      "metadata": {
        "colab": {
          "base_uri": "https://localhost:8080/"
        },
        "id": "speaking-baker",
        "outputId": "d110f803-2490-4272-c3ec-5710e009af74"
      },
      "outputs": [
        {
          "output_type": "execute_result",
          "data": {
            "text/plain": [
              "array([0.2617132 , 0.17509907, 1.02794228, 0.21840613, 0.53795688,\n",
              "       0.31862798, 1.20396413, 0.05324898, 0.28336673, 0.91967463])"
            ]
          },
          "metadata": {},
          "execution_count": 3
        }
      ],
      "source": [
        "from sklearn.linear_model import LinearRegression\n",
        "\n",
        "model = LinearRegression()\n",
        "model.fit(X.T, y)\n",
        "model.predict(X.T)"
      ]
    },
    {
      "cell_type": "code",
      "execution_count": 4,
      "id": "associate-debut",
      "metadata": {
        "id": "associate-debut"
      },
      "outputs": [],
      "source": [
        "def calc_std_feat(x):\n",
        "    res = (x - x.mean()) / x.std()\n",
        "    return res"
      ]
    },
    {
      "cell_type": "code",
      "execution_count": 5,
      "id": "distributed-huntington",
      "metadata": {
        "id": "distributed-huntington"
      },
      "outputs": [],
      "source": [
        "X_st = X.copy()\n",
        "X_st[2, :] = calc_std_feat(X[2, :])"
      ]
    },
    {
      "cell_type": "code",
      "execution_count": 6,
      "id": "dirty-ending",
      "metadata": {
        "id": "dirty-ending"
      },
      "outputs": [],
      "source": [
        "def sigmoid(z):\n",
        "    res = 1 / (1 + np.exp(-z))\n",
        "    return res"
      ]
    },
    {
      "cell_type": "code",
      "execution_count": 7,
      "id": "adjacent-photographer",
      "metadata": {
        "id": "adjacent-photographer"
      },
      "outputs": [],
      "source": [
        "def calc_logloss(y, y_pred):\n",
        "    err = - np.mean(y * np.log(y_pred) + (1.0 - y) * np.log(1.0 - y_pred))\n",
        "    return err"
      ]
    },
    {
      "cell_type": "code",
      "execution_count": 8,
      "id": "stock-angel",
      "metadata": {
        "colab": {
          "base_uri": "https://localhost:8080/"
        },
        "id": "stock-angel",
        "outputId": "29c8b4b8-14de-40b7-d6df-dd6bff931ea6"
      },
      "outputs": [
        {
          "output_type": "execute_result",
          "data": {
            "text/plain": [
              "array([0.56505739, 0.54366327, 0.73651677, 0.55438552, 0.63133701,\n",
              "       0.57898984, 0.76922923, 0.5133091 , 0.57037143, 0.7149758 ])"
            ]
          },
          "metadata": {},
          "execution_count": 8
        }
      ],
      "source": [
        "y_pred=sigmoid(model.predict(X.T))\n",
        "y_pred"
      ]
    },
    {
      "cell_type": "code",
      "execution_count": 9,
      "id": "reserved-diana",
      "metadata": {
        "id": "reserved-diana"
      },
      "outputs": [],
      "source": [
        "def eval_model(X, y, iterations, alpha=1e-4):\n",
        "    np.random.seed(42)\n",
        "    W = np.random.randn(X.shape[0])\n",
        "    n = X.shape[1]\n",
        "    for i in range(1, iterations+1):\n",
        "        z = np.dot(W, X)\n",
        "        y_pred = sigmoid(z)\n",
        "        err = calc_logloss(y, y_pred)\n",
        "        W -= alpha * (1/n * np.dot((y_pred - y), X.T))\n",
        "    if i % (iterations / 10) == 0:\n",
        "        print(i, W, err)\n",
        "    return W"
      ]
    },
    {
      "cell_type": "markdown",
      "id": "satellite-opposition",
      "metadata": {
        "id": "satellite-opposition"
      },
      "source": [
        "__1*__. Измените функцию calc_logloss так, чтобы нули по возможности не попадали в np.log.  \n",
        "*Идея модификации функции лежала в том, чтобы передавать не 1 или 0, а близкое к ним значение, например 0.999999 / 0.000001. Не счиать ошибку на примерах, которые наиболее важные для нас-это грубая ошибка*\n",
        "\n",
        "---"
      ]
    },
    {
      "cell_type": "markdown",
      "id": "secondary-announcement",
      "metadata": {
        "id": "secondary-announcement"
      },
      "source": [
        "исходный код функции calc_logloss"
      ]
    },
    {
      "cell_type": "markdown",
      "id": "expensive-weekly",
      "metadata": {
        "id": "expensive-weekly"
      },
      "source": [
        "`\n",
        "def calc_logloss(y, y_pred):\n",
        "    err = - np.mean(y * np.log(y_pred) + (1.0 - y) * np.log(1.0 - y_pred))\n",
        "    return err\n",
        "`"
      ]
    },
    {
      "cell_type": "markdown",
      "id": "regulation-attempt",
      "metadata": {
        "id": "regulation-attempt"
      },
      "source": [
        "Модифицируем функцию:"
      ]
    },
    {
      "cell_type": "code",
      "execution_count": 10,
      "id": "eight-table",
      "metadata": {
        "id": "eight-table"
      },
      "outputs": [],
      "source": [
        "def calc_logloss_mod(y, y_pred):\n",
        "    y_pred_res=np.where(y_pred==1, y_pred-1e-07, np.where(y_pred==0, y_pred+1e-07, y_pred))\n",
        "    err = - np.mean(y * np.log(y_pred_res) + (1.0 - y) * np.log(1.0 - y_pred_res))\n",
        "    return err"
      ]
    },
    {
      "cell_type": "markdown",
      "id": "streaming-novel",
      "metadata": {
        "id": "streaming-novel"
      },
      "source": [
        "Для проверки изменим вектор предсказанных значений, добавив в него нули и единицы"
      ]
    },
    {
      "cell_type": "code",
      "execution_count": 11,
      "id": "exceptional-contemporary",
      "metadata": {
        "scrolled": true,
        "colab": {
          "base_uri": "https://localhost:8080/"
        },
        "id": "exceptional-contemporary",
        "outputId": "8e9b578c-0f0a-42dc-9788-ca8e63722142"
      },
      "outputs": [
        {
          "output_type": "execute_result",
          "data": {
            "text/plain": [
              "2.024785862818215"
            ]
          },
          "metadata": {},
          "execution_count": 11
        }
      ],
      "source": [
        "y_pred1=np.array([0.56505739, 0., 0.73651677, 0.55438552, 1.,\n",
        "       0.57898984, 0.76922923, 0.5133091 , 0., 0.7149758 ])\n",
        "calc_logloss_mod(y, y_pred1)"
      ]
    },
    {
      "cell_type": "markdown",
      "id": "returning-cooperative",
      "metadata": {
        "id": "returning-cooperative"
      },
      "source": [
        "Исходная функция при этом возвращает nan"
      ]
    },
    {
      "cell_type": "code",
      "execution_count": 12,
      "id": "informational-volunteer",
      "metadata": {
        "scrolled": true,
        "colab": {
          "base_uri": "https://localhost:8080/"
        },
        "id": "informational-volunteer",
        "outputId": "0ada14a1-4152-41df-ac12-436931cba28b"
      },
      "outputs": [
        {
          "output_type": "stream",
          "name": "stderr",
          "text": [
            "<ipython-input-7-7d5907c1794a>:2: RuntimeWarning: divide by zero encountered in log\n",
            "  err = - np.mean(y * np.log(y_pred) + (1.0 - y) * np.log(1.0 - y_pred))\n",
            "<ipython-input-7-7d5907c1794a>:2: RuntimeWarning: invalid value encountered in multiply\n",
            "  err = - np.mean(y * np.log(y_pred) + (1.0 - y) * np.log(1.0 - y_pred))\n"
          ]
        },
        {
          "output_type": "execute_result",
          "data": {
            "text/plain": [
              "nan"
            ]
          },
          "metadata": {},
          "execution_count": 12
        }
      ],
      "source": [
        "calc_logloss(y, y_pred1)"
      ]
    },
    {
      "cell_type": "markdown",
      "id": "continental-spyware",
      "metadata": {
        "id": "continental-spyware"
      },
      "source": [
        "**2.** Подберите аргументы функции eval_model для логистической регрессии таким образом, чтобы log loss был минимальным.  \n",
        "\n",
        "---"
      ]
    },
    {
      "cell_type": "code",
      "execution_count": 13,
      "id": "standard-reality",
      "metadata": {
        "id": "standard-reality"
      },
      "outputs": [],
      "source": [
        "def eval_model(X, y, iterations, alpha=1e-4):\n",
        "    np.random.seed(42)\n",
        "    W = np.random.randn(X.shape[0])\n",
        "    n = X.shape[1]\n",
        "    for i in range(1, iterations+1):\n",
        "        z = np.dot(W, X)\n",
        "        y_pred = sigmoid(z)\n",
        "        err = calc_logloss_mod(y, y_pred) # заменим на модифицированную нами функцию\n",
        "        W -= alpha * (1/n * np.dot((y_pred - y), X.T))\n",
        "    if i % (iterations / 10) == 0:\n",
        "        print(i, W, err)\n",
        "    return W"
      ]
    },
    {
      "cell_type": "code",
      "execution_count": 14,
      "id": "intended-debate",
      "metadata": {
        "colab": {
          "base_uri": "https://localhost:8080/"
        },
        "id": "intended-debate",
        "outputId": "bcb3632b-3596-4cd9-cdc0-9eaaa97d25d8"
      },
      "outputs": [
        {
          "output_type": "stream",
          "name": "stdout",
          "text": [
            "1000 [ 0.49282757 -0.15007512  0.64748969  1.51727928] 1.2013133809011647\n"
          ]
        }
      ],
      "source": [
        "W = eval_model(X_st, y, iterations=1000, alpha=1e-5)"
      ]
    },
    {
      "cell_type": "markdown",
      "id": "uniform-exception",
      "metadata": {
        "id": "uniform-exception"
      },
      "source": [
        "для подбора параметров модифицируем функцию, для остановки до достижения заданного количества итераций, если величина ошибки не изменяется выше указанного показателя"
      ]
    },
    {
      "cell_type": "code",
      "execution_count": 15,
      "id": "initial-setup",
      "metadata": {
        "id": "initial-setup"
      },
      "outputs": [],
      "source": [
        "def eval_model(X, y, verbose=False, alpha=1e-4, tol=0.00001): \n",
        "    view_ind = 10**(-np.log10(tol)-2) if -np.log10(tol)-2>=1 else 1 # задаём параметр кратности вывода промежуточных результатов\n",
        "    np.random.seed(42)\n",
        "    W = np.random.randn(X.shape[0])\n",
        "    n = X.shape[1]\n",
        "    min_err = float('inf')  #начальное значение ошибки модели - бесконечность\n",
        "    n_iter = 0  # отслеживаем количество итераций\n",
        "    stop_chek = True\n",
        "    errors = []  # добавлено для визуализации кривой обучения\n",
        "    while stop_chek:\n",
        "        n_iter += 1\n",
        "        z = np.dot(W, X)\n",
        "        y_pred = sigmoid(z)\n",
        "        err = calc_logloss_mod(y, y_pred) # заменим на модифицированную нами функцию\n",
        "        errors.append(err)\n",
        "        if min_err - err > tol:  # контролируем текущее значение ошибки\n",
        "            min_err = err\n",
        "        else:  # если снижение прекратилось, останавливаемся.\n",
        "            print(\n",
        "                f'Stop descent! iteration: {n_iter}, weights: {W}, logloss: {min_err}')\n",
        "            stop_chek = False\n",
        "        W -= alpha * (1/n * np.dot((y_pred - y), X.T))\n",
        "        if verbose:\n",
        "            if n_iter % view_ind == 0:\n",
        "                print(n_iter, W, err)\n",
        "    return W, min_err, n_iter"
      ]
    },
    {
      "cell_type": "code",
      "execution_count": 16,
      "id": "directed-province",
      "metadata": {
        "colab": {
          "base_uri": "https://localhost:8080/"
        },
        "id": "directed-province",
        "outputId": "14ac09a9-4d72-4eed-9cfe-6a18c5c50109"
      },
      "outputs": [
        {
          "output_type": "stream",
          "name": "stdout",
          "text": [
            "1000 [-8.650831   -1.25372329 -1.54901597  7.41955336] 0.2823965843259973\n",
            "2000 [-12.40065236  -1.54519184  -2.73360596  10.40076601] 0.24130322780777833\n",
            "3000 [-15.36100912  -1.79394114  -3.63840883  12.7942367 ] 0.21560879813812384\n",
            "4000 [-17.89496779  -2.01191968  -4.40078502  14.84932619] 0.1967862662226779\n",
            "5000 [-20.12312962  -2.20577442  -5.0641727   16.65729995] 0.18224763493044263\n",
            "6000 [-22.11355698  -2.38010899  -5.65216163  18.27197463] 0.17065959157189312\n",
            "Stop descent! iteration: 6204, weights: [-22.49301224  -2.41343975  -5.76381384  18.57970581], logloss: 0.1685880929323425\n"
          ]
        }
      ],
      "source": [
        "W = eval_model(X_st, y, alpha=0.6, tol=0.00001, verbose=True)"
      ]
    },
    {
      "cell_type": "markdown",
      "id": "written-stock",
      "metadata": {
        "id": "written-stock"
      },
      "source": [
        "Подберем лучшие параметры $\\alpha$ для модели(поскольку функция сама отслеживает оптимальное количество итераций, то других параметров подбирать не нужно):"
      ]
    },
    {
      "cell_type": "code",
      "execution_count": 17,
      "id": "anticipated-karma",
      "metadata": {
        "id": "anticipated-karma"
      },
      "outputs": [],
      "source": [
        "def get_best_params(X,y,args):\n",
        "    best_params=[]\n",
        "    for arg in args:\n",
        "        W,err,n_iter = eval_model(X, y, alpha=arg)\n",
        "        best_params.append((arg,err,n_iter))\n",
        "    best_params.sort(key=lambda x:x[1])\n",
        "    print(f'best - alpha: {best_params[0][0]},\\nresults:\\nerr: {best_params[0][1]},\\nn_iter: {best_params[0][2]}')\n",
        "    return best_params[0]"
      ]
    },
    {
      "cell_type": "code",
      "execution_count": 18,
      "id": "confused-session",
      "metadata": {
        "colab": {
          "base_uri": "https://localhost:8080/"
        },
        "id": "confused-session",
        "outputId": "24e5fb96-60d1-4c41-a92d-5186a5087606"
      },
      "outputs": [
        {
          "output_type": "stream",
          "name": "stdout",
          "text": [
            "Stop descent! iteration: 4, weights: [-0.01512682 -1.44851808  0.75644797  1.06048112], logloss: 0.9360085439942413\n",
            "Stop descent! iteration: 6391, weights: [-20.79292735  -2.26433611  -5.26248927  17.20072759], logloss: 0.17820649249087692\n",
            "Stop descent! iteration: 5853, weights: [-8.53503588 -1.24557698 -1.51126618  7.32961021], logloss: 0.28385397215014785\n",
            "Stop descent! iteration: 6493, weights: [-6.18756485 -1.10137381 -0.7192765   5.56154533], logloss: 0.3198397227902269\n",
            "Stop descent! iteration: 6823, weights: [-2.01966427 -0.97319445  0.84001927  2.78391711], logloss: 0.43337113257078075\n",
            "Stop descent! iteration: 4134, weights: [-0.6636217  -0.82018794  1.11647506  1.7462896 ], logloss: 0.4980620278791868\n",
            "Stop descent! iteration: 3017, weights: [ 0.06153887 -0.68603638  0.85254687  1.2130508 ], logloss: 0.555828709755477\n",
            "Stop descent! iteration: 3104, weights: [ 0.19306961 -0.69531514  0.74058514  1.21943805], logloss: 0.5765738129341405\n",
            "Stop descent! iteration: 6890, weights: [ 0.30486547 -0.64297726  0.65967984  1.27145631], logloss: 0.608860244923452\n",
            "Stop descent! iteration: 11196, weights: [ 0.32871646 -0.60814204  0.6497502   1.29299115], logloss: 0.6272419108714266\n",
            "Stop descent! iteration: 29779, weights: [ 0.39267294 -0.45708299  0.6408199   1.37066871], logloss: 0.7608933828168416\n",
            "Stop descent! iteration: 2, weights: [ 0.4967122  -0.13827022  0.64768844  1.52302697], logloss: 1.220065627789983\n",
            "Stop descent! iteration: 2, weights: [ 0.49671376 -0.13826548  0.64768852  1.52302928], logloss: 1.220065627789983\n",
            "Stop descent! iteration: 2, weights: [ 0.49671396 -0.13826489  0.64768853  1.52302957], logloss: 1.220065627789983\n",
            "Stop descent! iteration: 2, weights: [ 0.49671411 -0.13826442  0.64768854  1.5230298 ], logloss: 1.220065627789983\n",
            "best - alpha: 0.5,\n",
            "results:\n",
            "err: 0.17820649249087692,\n",
            "n_iter: 6391\n"
          ]
        },
        {
          "output_type": "execute_result",
          "data": {
            "text/plain": [
              "(0.5, 0.17820649249087692, 6391)"
            ]
          },
          "metadata": {},
          "execution_count": 18
        }
      ],
      "source": [
        "alphas=[1, 0.5,0.1,0.05, 0.01, 0.005, 0.001, 0.0005, 0.0001, 0.00005, 0.00001, 0.000005, 0.000001, 0.0000005, 0.0000001]\n",
        "bp=get_best_params(X_st,y,alphas)\n",
        "bp"
      ]
    },
    {
      "cell_type": "markdown",
      "id": "motivated-network",
      "metadata": {
        "id": "motivated-network"
      },
      "source": [
        "Лучший результат получаем при $\\alpha=0.5$  \n",
        "попробуем подобрать $\\alpha$ из интервала $(1,0.1)$"
      ]
    },
    {
      "cell_type": "code",
      "execution_count": 19,
      "id": "personalized-fourth",
      "metadata": {
        "colab": {
          "base_uri": "https://localhost:8080/"
        },
        "id": "personalized-fourth",
        "outputId": "35c1215a-af4c-4e16-f930-54a2fa9d9c40"
      },
      "outputs": [
        {
          "output_type": "stream",
          "name": "stdout",
          "text": [
            "Stop descent! iteration: 5853, weights: [-8.53503588 -1.24557698 -1.51126618  7.32961021], logloss: 0.28385397215014785\n",
            "Stop descent! iteration: 6187, weights: [-12.59825223  -1.5614873   -2.79460722  10.55999424], logloss: 0.23942165779557908\n",
            "Stop descent! iteration: 6534, weights: [-16.06978213  -1.85457135  -3.85261322  13.36879382], logloss: 0.21006752362747183\n",
            "Stop descent! iteration: 6535, weights: [-18.71799582  -2.08333293  -4.64651497  15.51714508], logloss: 0.19120600628315837\n",
            "Stop descent! iteration: 6391, weights: [-20.79292735  -2.26433611  -5.26248927  17.20072759], logloss: 0.17820649249087692\n",
            "Stop descent! iteration: 6204, weights: [-22.49301224  -2.41343975  -5.76381384  18.57970581], logloss: 0.1685880929323425\n",
            "Stop descent! iteration: 6, weights: [ 9.91945996e-04 -8.78773470e-01  8.74063808e-01  1.19348750e+00], logloss: 0.5868163760298956\n",
            "Stop descent! iteration: 4, weights: [ 0.06140228 -1.1126246   0.76192585  1.11769668], logloss: 0.6865501501467717\n",
            "Stop descent! iteration: 4, weights: [ 0.018576   -1.31433745  0.75285106  1.07760698], logloss: 0.8025549653255653\n",
            "best - alpha: 0.6,\n",
            "results:\n",
            "err: 0.1685880929323425,\n",
            "n_iter: 6204\n"
          ]
        },
        {
          "output_type": "execute_result",
          "data": {
            "text/plain": [
              "(0.6, 0.1685880929323425, 6204)"
            ]
          },
          "metadata": {},
          "execution_count": 19
        }
      ],
      "source": [
        "alphas=np.arange(1,10)/10\n",
        "bp=get_best_params(X_st,y,alphas)\n",
        "bp"
      ]
    },
    {
      "cell_type": "markdown",
      "id": "theoretical-python",
      "metadata": {
        "id": "theoretical-python"
      },
      "source": [
        "Лучший параметр скорости обучения для нашего примера $\\alpha=0.6$"
      ]
    },
    {
      "cell_type": "markdown",
      "id": "monthly-counter",
      "metadata": {
        "id": "monthly-counter"
      },
      "source": [
        "**3.** Создайте функцию calc_pred_proba, возвращающую предсказанную вероятность класса 1 (на вход подаются W, который уже посчитан функцией eval_model и X, на выходе - массив y_pred_proba).  \n",
        "\n",
        "---"
      ]
    },
    {
      "cell_type": "code",
      "execution_count": 20,
      "id": "hourly-medication",
      "metadata": {
        "id": "hourly-medication"
      },
      "outputs": [],
      "source": [
        "def calc_pred_proba(w, x): \n",
        "    pred_proba = sigmoid(np.dot(w, x))\n",
        "    return pred_proba"
      ]
    },
    {
      "cell_type": "code",
      "execution_count": 21,
      "id": "empty-tractor",
      "metadata": {
        "colab": {
          "base_uri": "https://localhost:8080/"
        },
        "id": "empty-tractor",
        "outputId": "ee6e8272-dd56-4313-dc55-01740acc2178"
      },
      "outputs": [
        {
          "output_type": "stream",
          "name": "stdout",
          "text": [
            "1000 [-8.650831   -1.25372329 -1.54901597  7.41955336] 0.2823965843259973\n",
            "2000 [-12.40065236  -1.54519184  -2.73360596  10.40076601] 0.24130322780777833\n",
            "3000 [-15.36100912  -1.79394114  -3.63840883  12.7942367 ] 0.21560879813812384\n",
            "4000 [-17.89496779  -2.01191968  -4.40078502  14.84932619] 0.1967862662226779\n",
            "5000 [-20.12312962  -2.20577442  -5.0641727   16.65729995] 0.18224763493044263\n",
            "6000 [-22.11355698  -2.38010899  -5.65216163  18.27197463] 0.17065959157189312\n",
            "Stop descent! iteration: 6204, weights: [-22.49301224  -2.41343975  -5.76381384  18.57970581], logloss: 0.1685880929323425\n"
          ]
        }
      ],
      "source": [
        "W,_err,_it = eval_model(X_st, y, alpha=0.6, verbose=True)"
      ]
    },
    {
      "cell_type": "code",
      "execution_count": 22,
      "id": "opposite-yahoo",
      "metadata": {
        "colab": {
          "base_uri": "https://localhost:8080/"
        },
        "id": "opposite-yahoo",
        "outputId": "e9602ef3-4973-493e-fa88-cde9712b774f"
      },
      "outputs": [
        {
          "output_type": "execute_result",
          "data": {
            "text/plain": [
              "array([0.33613789, 0.04486849, 0.99999633, 0.13361891, 0.85570148,\n",
              "       0.13784668, 0.99999968, 0.04426597, 0.47847259, 0.99992831])"
            ]
          },
          "metadata": {},
          "execution_count": 22
        }
      ],
      "source": [
        "y_pred_prob = calc_pred_proba(W, X_st)\n",
        "y_pred_prob"
      ]
    },
    {
      "cell_type": "markdown",
      "id": "alone-bryan",
      "metadata": {
        "id": "alone-bryan"
      },
      "source": [
        "**4.** Создайте функцию calc_pred, возвращающую предсказанный класс (на вход подаются W, который уже посчитан функцией eval_model и X, на выходе - массив y_pred)."
      ]
    },
    {
      "cell_type": "code",
      "execution_count": 23,
      "id": "arctic-brave",
      "metadata": {
        "id": "arctic-brave"
      },
      "outputs": [],
      "source": [
        "def calc_pred(w,x, prob_lim=0.5):    # установим порог вероятности, при превышении которого, объект будет относиться к классу 1\n",
        "    pred_proba = sigmoid(np.dot(w, x))\n",
        "    pred=np.zeros_like(pred_proba)\n",
        "    for idx, prob in enumerate(pred_proba):\n",
        "        if prob>prob_lim:\n",
        "            pred[idx]=1\n",
        "    return pred"
      ]
    },
    {
      "cell_type": "code",
      "execution_count": 24,
      "id": "inappropriate-schedule",
      "metadata": {
        "colab": {
          "base_uri": "https://localhost:8080/"
        },
        "id": "inappropriate-schedule",
        "outputId": "db97f371-ab97-4913-90a7-5625d046564d"
      },
      "outputs": [
        {
          "output_type": "execute_result",
          "data": {
            "text/plain": [
              "array([0., 0., 1., 0., 1., 0., 1., 0., 0., 1.])"
            ]
          },
          "metadata": {},
          "execution_count": 24
        }
      ],
      "source": [
        "y_pred=calc_pred(W, X_st)\n",
        "y_pred"
      ]
    },
    {
      "cell_type": "markdown",
      "id": "defensive-workstation",
      "metadata": {
        "id": "defensive-workstation"
      },
      "source": [
        "**5.** Посчитайте Accuracy, матрицу ошибок, точность и полноту, а также F1 score.  \n",
        "\n",
        "---"
      ]
    },
    {
      "cell_type": "code",
      "execution_count": 25,
      "id": "olympic-nylon",
      "metadata": {
        "id": "olympic-nylon"
      },
      "outputs": [],
      "source": [
        "from sklearn.metrics import accuracy_score, confusion_matrix, recall_score, precision_score, f1_score"
      ]
    },
    {
      "cell_type": "markdown",
      "id": "dynamic-assault",
      "metadata": {
        "id": "dynamic-assault"
      },
      "source": [
        "$\\displaystyle accuracy=\\frac{TP+TN}{TP+FP+TN+FN}$"
      ]
    },
    {
      "cell_type": "code",
      "execution_count": 26,
      "id": "geographic-orientation",
      "metadata": {
        "id": "geographic-orientation"
      },
      "outputs": [],
      "source": [
        "def my_accuracy(real, pred):\n",
        "    all_res=len(real)\n",
        "    trues=0\n",
        "    for i in range(all_res):\n",
        "        trues+=int(real[i]==pred[i])\n",
        "    return trues/all_res\n",
        "        "
      ]
    },
    {
      "cell_type": "code",
      "execution_count": 27,
      "id": "equipped-ownership",
      "metadata": {
        "colab": {
          "base_uri": "https://localhost:8080/"
        },
        "id": "equipped-ownership",
        "outputId": "c14a4ec8-4989-4321-b70f-71a0b67d798b"
      },
      "outputs": [
        {
          "output_type": "execute_result",
          "data": {
            "text/plain": [
              "0.9"
            ]
          },
          "metadata": {},
          "execution_count": 27
        }
      ],
      "source": [
        "my_accuracy(y,y_pred)"
      ]
    },
    {
      "cell_type": "markdown",
      "id": "dominant-thumb",
      "metadata": {
        "id": "dominant-thumb"
      },
      "source": [
        "Проверим:"
      ]
    },
    {
      "cell_type": "code",
      "execution_count": 28,
      "id": "lesser-seven",
      "metadata": {
        "colab": {
          "base_uri": "https://localhost:8080/"
        },
        "id": "lesser-seven",
        "outputId": "4d45f577-64e5-4c39-8fee-700907118498"
      },
      "outputs": [
        {
          "output_type": "execute_result",
          "data": {
            "text/plain": [
              "0.9"
            ]
          },
          "metadata": {},
          "execution_count": 28
        }
      ],
      "source": [
        "accuracy_score(y,y_pred)"
      ]
    },
    {
      "cell_type": "markdown",
      "id": "difficult-generic",
      "metadata": {
        "id": "difficult-generic"
      },
      "source": [
        "|  <empty>   | $$y = +1$$ | $$y = -1$$ |\n",
        "--- | --- | ---\n",
        "| __$$a(x) = +1$$__  |   TP    |   FP   |\n",
        "| __$$a(x) = -1$$__ |   FN    |   TN   |"
      ]
    },
    {
      "cell_type": "code",
      "execution_count": 29,
      "id": "third-documentary",
      "metadata": {
        "id": "third-documentary"
      },
      "outputs": [],
      "source": [
        "def my_confusion_matrix(real, pred):\n",
        "    n_classes=len(np.unique(real))\n",
        "    all_res=len(real)\n",
        "    conf_matr=np.zeros((n_classes,n_classes), dtype='int')\n",
        "    for i in range(all_res):\n",
        "        conf_matr[int(real[i])][int(pred[i])] += 1\n",
        "    return conf_matr  \n",
        "    "
      ]
    },
    {
      "cell_type": "code",
      "execution_count": 30,
      "id": "attempted-immune",
      "metadata": {
        "colab": {
          "base_uri": "https://localhost:8080/"
        },
        "id": "attempted-immune",
        "outputId": "100dd3df-58c7-4f17-f3d2-454c5f2ca3fc"
      },
      "outputs": [
        {
          "output_type": "execute_result",
          "data": {
            "text/plain": [
              "array([[5, 0],\n",
              "       [1, 4]])"
            ]
          },
          "metadata": {},
          "execution_count": 30
        }
      ],
      "source": [
        "my_confusion_matrix(y,y_pred)"
      ]
    },
    {
      "cell_type": "markdown",
      "id": "diagnostic-background",
      "metadata": {
        "id": "diagnostic-background"
      },
      "source": [
        "Проверим:"
      ]
    },
    {
      "cell_type": "code",
      "execution_count": 31,
      "id": "friendly-feelings",
      "metadata": {
        "colab": {
          "base_uri": "https://localhost:8080/"
        },
        "id": "friendly-feelings",
        "outputId": "20b93cef-f685-4f41-fef4-c48b16ead22b"
      },
      "outputs": [
        {
          "output_type": "execute_result",
          "data": {
            "text/plain": [
              "array([[5, 0],\n",
              "       [1, 4]])"
            ]
          },
          "metadata": {},
          "execution_count": 31
        }
      ],
      "source": [
        "confusion_matrix(y,y_pred)"
      ]
    },
    {
      "cell_type": "markdown",
      "id": "strong-gnome",
      "metadata": {
        "id": "strong-gnome"
      },
      "source": [
        "$\\displaystyle precision=\\frac{TP}{TP+FP}$"
      ]
    },
    {
      "cell_type": "code",
      "execution_count": 32,
      "id": "christian-meditation",
      "metadata": {
        "id": "christian-meditation"
      },
      "outputs": [],
      "source": [
        "def my_precision(real, pred):\n",
        "    tn, fp, fn, tp = my_confusion_matrix(real, pred).ravel()\n",
        "    return tp/(tp+fp)\n",
        "    "
      ]
    },
    {
      "cell_type": "code",
      "execution_count": 33,
      "id": "incomplete-volunteer",
      "metadata": {
        "colab": {
          "base_uri": "https://localhost:8080/"
        },
        "id": "incomplete-volunteer",
        "outputId": "1076db44-f290-4494-d75c-d364e4100096"
      },
      "outputs": [
        {
          "output_type": "execute_result",
          "data": {
            "text/plain": [
              "1.0"
            ]
          },
          "metadata": {},
          "execution_count": 33
        }
      ],
      "source": [
        "my_precision(y,y_pred)"
      ]
    },
    {
      "cell_type": "markdown",
      "id": "automotive-joint",
      "metadata": {
        "id": "automotive-joint"
      },
      "source": [
        "Проверка:"
      ]
    },
    {
      "cell_type": "code",
      "execution_count": 34,
      "id": "african-broadcast",
      "metadata": {
        "colab": {
          "base_uri": "https://localhost:8080/"
        },
        "id": "african-broadcast",
        "outputId": "fe52eaf8-1e02-4113-cde8-bd62f54ba370"
      },
      "outputs": [
        {
          "output_type": "execute_result",
          "data": {
            "text/plain": [
              "1.0"
            ]
          },
          "metadata": {},
          "execution_count": 34
        }
      ],
      "source": [
        "precision_score(y,y_pred)"
      ]
    },
    {
      "cell_type": "markdown",
      "id": "downtown-cheat",
      "metadata": {
        "id": "downtown-cheat"
      },
      "source": [
        "$\\displaystyle recall=\\frac{TP}{TP+FN}$"
      ]
    },
    {
      "cell_type": "code",
      "execution_count": 35,
      "id": "oriented-simpson",
      "metadata": {
        "id": "oriented-simpson"
      },
      "outputs": [],
      "source": [
        "def my_recall(real, pred):\n",
        "    tn, fp, fn, tp = my_confusion_matrix(real, pred).ravel()\n",
        "    return tp/(tp+fn)"
      ]
    },
    {
      "cell_type": "code",
      "execution_count": 36,
      "id": "capital-priest",
      "metadata": {
        "colab": {
          "base_uri": "https://localhost:8080/"
        },
        "id": "capital-priest",
        "outputId": "98b68597-7ba1-41f9-903d-4b58492c6709"
      },
      "outputs": [
        {
          "output_type": "execute_result",
          "data": {
            "text/plain": [
              "0.8"
            ]
          },
          "metadata": {},
          "execution_count": 36
        }
      ],
      "source": [
        "my_recall(y,y_pred)"
      ]
    },
    {
      "cell_type": "markdown",
      "id": "bigger-equity",
      "metadata": {
        "id": "bigger-equity"
      },
      "source": [
        "Проверка:"
      ]
    },
    {
      "cell_type": "code",
      "execution_count": 37,
      "id": "suspected-casino",
      "metadata": {
        "colab": {
          "base_uri": "https://localhost:8080/"
        },
        "id": "suspected-casino",
        "outputId": "f0434f9f-6301-4bec-fa57-c400cb8a5697"
      },
      "outputs": [
        {
          "output_type": "execute_result",
          "data": {
            "text/plain": [
              "0.8"
            ]
          },
          "metadata": {},
          "execution_count": 37
        }
      ],
      "source": [
        "recall_score(y,y_pred)"
      ]
    },
    {
      "cell_type": "markdown",
      "id": "accepted-truck",
      "metadata": {
        "id": "accepted-truck"
      },
      "source": [
        "$\\displaystyle F_1=(1+\\beta^2)\\frac{precision\\cdot recall}{\\beta^{2}\\cdot precision+recall}$"
      ]
    },
    {
      "cell_type": "code",
      "execution_count": 38,
      "id": "adopted-korea",
      "metadata": {
        "id": "adopted-korea"
      },
      "outputs": [],
      "source": [
        "def my_f1(real, pred, beta=1):\n",
        "    return (1+beta**2)*my_precision(real, pred)*my_recall(y,y_pred)/(beta**2*my_precision(real, pred)+my_recall(y,y_pred))"
      ]
    },
    {
      "cell_type": "code",
      "execution_count": 39,
      "id": "municipal-fever",
      "metadata": {
        "colab": {
          "base_uri": "https://localhost:8080/"
        },
        "id": "municipal-fever",
        "outputId": "7af66fe5-5c50-4b04-8488-a744f97e8c62"
      },
      "outputs": [
        {
          "output_type": "execute_result",
          "data": {
            "text/plain": [
              "0.888888888888889"
            ]
          },
          "metadata": {},
          "execution_count": 39
        }
      ],
      "source": [
        "my_f1(y,y_pred)"
      ]
    },
    {
      "cell_type": "markdown",
      "id": "forced-scholar",
      "metadata": {
        "id": "forced-scholar"
      },
      "source": [
        "Проверка:"
      ]
    },
    {
      "cell_type": "code",
      "execution_count": 40,
      "id": "historical-application",
      "metadata": {
        "colab": {
          "base_uri": "https://localhost:8080/"
        },
        "id": "historical-application",
        "outputId": "a58f463a-0542-4a9f-cf82-db23ba04ab7b"
      },
      "outputs": [
        {
          "output_type": "execute_result",
          "data": {
            "text/plain": [
              "0.888888888888889"
            ]
          },
          "metadata": {},
          "execution_count": 40
        }
      ],
      "source": [
        "f1_score(y,y_pred)"
      ]
    },
    {
      "cell_type": "markdown",
      "id": "alone-touch",
      "metadata": {
        "id": "alone-touch"
      },
      "source": [
        "**6.** Могла ли модель переобучиться? Почему?  \n",
        "\n",
        "---"
      ]
    },
    {
      "cell_type": "markdown",
      "id": "coated-following",
      "metadata": {
        "id": "coated-following"
      },
      "source": [
        "Модель логистической регрессии склонна к переобучению, в следствии того что мы используем сигмоиду для того, чтобы преобразовать в вероятность предсказания линейной модели. А т.к. сигмоида не имеет максимума и минимума, а только асимптоты в 0 и 1, градиентный спуск не может достичь оптимального решения с помощью градиентных шагов доводя веса до все более экстремальных значений, пытаясь достичь нулевых потерь. При большой размерности данных вероятность этого еще больше увеличивается. Поэтому в качестве способа регуляризации можно использовать ранний останов работы модели, а так же L1 и L2 регуляризацию. "
      ]
    }
  ],
  "metadata": {
    "kernelspec": {
      "display_name": "Python 3",
      "language": "python",
      "name": "python3"
    },
    "language_info": {
      "codemirror_mode": {
        "name": "ipython",
        "version": 3
      },
      "file_extension": ".py",
      "mimetype": "text/x-python",
      "name": "python",
      "nbconvert_exporter": "python",
      "pygments_lexer": "ipython3",
      "version": "3.8.5"
    },
    "colab": {
      "provenance": []
    }
  },
  "nbformat": 4,
  "nbformat_minor": 5
}