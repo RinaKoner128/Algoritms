{
  "cells": [
    {
      "cell_type": "markdown",
      "metadata": {
        "id": "dHMvW_D5O-Tk"
      },
      "source": [
        "### Урок 2. Масштабирование признаков. Регуляризация. Стохастический градиентный спуск."
      ]
    },
    {
      "cell_type": "code",
      "execution_count": 115,
      "metadata": {
        "id": "_u5bV-OlT34p"
      },
      "outputs": [],
      "source": [
        "import numpy as np\n",
        "import matplotlib.pyplot as plt"
      ]
    },
    {
      "cell_type": "code",
      "execution_count": 116,
      "metadata": {
        "id": "_n6il-AZaLuA"
      },
      "outputs": [],
      "source": [
        "X = np.array([[1, 1, 1, 1, 1, 1, 1, 1, 1, 1],\n",
        "              [1, 1, 2, 5, 3, 0, 5, 10, 1, 2],\n",
        "              [500, 700, 750, 600, 1450, 800, 1500, 2000, 450, 1000],\n",
        "              [1, 1, 2, 1, 2, 1, 3, 3, 1, 2]])"
      ]
    },
    {
      "cell_type": "code",
      "execution_count": 117,
      "metadata": {
        "id": "x8yoci01ni-t"
      },
      "outputs": [],
      "source": [
        "y = [45, 55, 50, 55, 60, 35, 75, 80, 50, 60]"
      ]
    },
    {
      "cell_type": "markdown",
      "metadata": {
        "id": "X6OBL0fcO-Tp"
      },
      "source": [
        "Нормализация [0, 1]"
      ]
    },
    {
      "cell_type": "code",
      "execution_count": 118,
      "metadata": {
        "colab": {
          "base_uri": "https://localhost:8080/"
        },
        "id": "Ei5qeZO_aT6m",
        "outputId": "d193ce49-7d1a-4c09-d215-0f9ac9be63b5"
      },
      "outputs": [
        {
          "output_type": "execute_result",
          "data": {
            "text/plain": [
              "(0, 10)"
            ]
          },
          "metadata": {},
          "execution_count": 118
        }
      ],
      "source": [
        "X[1].min(), X[1].max()"
      ]
    },
    {
      "cell_type": "code",
      "execution_count": 119,
      "metadata": {
        "colab": {
          "base_uri": "https://localhost:8080/"
        },
        "id": "L7wsW1Q7b4Ts",
        "outputId": "31f774ad-50c0-4af7-e179-c681c1b31f43"
      },
      "outputs": [
        {
          "output_type": "execute_result",
          "data": {
            "text/plain": [
              "(450, 2000)"
            ]
          },
          "metadata": {},
          "execution_count": 119
        }
      ],
      "source": [
        "X[2].min(), X[2].max()"
      ]
    },
    {
      "cell_type": "code",
      "execution_count": 120,
      "metadata": {
        "colab": {
          "base_uri": "https://localhost:8080/"
        },
        "id": "E55S9Bzob9Xa",
        "outputId": "c125dd91-29c3-4b48-d5fb-fa224e0c187e"
      },
      "outputs": [
        {
          "output_type": "execute_result",
          "data": {
            "text/plain": [
              "array([[1.00e+00, 1.00e+00, 1.00e+00, 1.00e+00, 1.00e+00, 1.00e+00,\n",
              "        1.00e+00, 1.00e+00, 1.00e+00, 1.00e+00],\n",
              "       [1.00e+00, 1.00e+00, 2.00e+00, 5.00e+00, 3.00e+00, 0.00e+00,\n",
              "        5.00e+00, 1.00e+01, 1.00e+00, 2.00e+00],\n",
              "       [5.00e+02, 7.00e+02, 7.50e+02, 6.00e+02, 1.45e+03, 8.00e+02,\n",
              "        1.50e+03, 2.00e+03, 4.50e+02, 1.00e+03],\n",
              "       [1.00e+00, 1.00e+00, 2.00e+00, 1.00e+00, 2.00e+00, 1.00e+00,\n",
              "        3.00e+00, 3.00e+00, 1.00e+00, 2.00e+00]])"
            ]
          },
          "metadata": {},
          "execution_count": 120
        }
      ],
      "source": [
        "X_norm = X.copy()\n",
        "X_norm = X_norm.astype(np.float64)\n",
        "X_norm"
      ]
    },
    {
      "cell_type": "code",
      "execution_count": 121,
      "metadata": {
        "colab": {
          "base_uri": "https://localhost:8080/"
        },
        "id": "7x-6IuPOcIo0",
        "outputId": "708232f7-1699-4989-da94-533da1133de4"
      },
      "outputs": [
        {
          "output_type": "execute_result",
          "data": {
            "text/plain": [
              "array([[1.00e+00, 1.00e+00, 1.00e+00, 1.00e+00, 1.00e+00, 1.00e+00,\n",
              "        1.00e+00, 1.00e+00, 1.00e+00, 1.00e+00],\n",
              "       [1.00e-01, 1.00e-01, 2.00e-01, 5.00e-01, 3.00e-01, 0.00e+00,\n",
              "        5.00e-01, 1.00e+00, 1.00e-01, 2.00e-01],\n",
              "       [5.00e+02, 7.00e+02, 7.50e+02, 6.00e+02, 1.45e+03, 8.00e+02,\n",
              "        1.50e+03, 2.00e+03, 4.50e+02, 1.00e+03],\n",
              "       [1.00e+00, 1.00e+00, 2.00e+00, 1.00e+00, 2.00e+00, 1.00e+00,\n",
              "        3.00e+00, 3.00e+00, 1.00e+00, 2.00e+00]])"
            ]
          },
          "metadata": {},
          "execution_count": 121
        }
      ],
      "source": [
        "X_norm[1] = (X[1] - X[1].min()) / (X[1].max() - X[1].min())\n",
        "X_norm"
      ]
    },
    {
      "cell_type": "code",
      "execution_count": 122,
      "metadata": {
        "colab": {
          "base_uri": "https://localhost:8080/"
        },
        "id": "izkMRdXFcjyK",
        "outputId": "3da3d327-ee93-4c85-9b3f-ae6c645ba023"
      },
      "outputs": [
        {
          "output_type": "execute_result",
          "data": {
            "text/plain": [
              "array([[1.        , 1.        , 1.        , 1.        , 1.        ,\n",
              "        1.        , 1.        , 1.        , 1.        , 1.        ],\n",
              "       [0.1       , 0.1       , 0.2       , 0.5       , 0.3       ,\n",
              "        0.        , 0.5       , 1.        , 0.1       , 0.2       ],\n",
              "       [0.03225806, 0.16129032, 0.19354839, 0.09677419, 0.64516129,\n",
              "        0.22580645, 0.67741935, 1.        , 0.        , 0.35483871],\n",
              "       [1.        , 1.        , 2.        , 1.        , 2.        ,\n",
              "        1.        , 3.        , 3.        , 1.        , 2.        ]])"
            ]
          },
          "metadata": {},
          "execution_count": 122
        }
      ],
      "source": [
        "X_norm[2] = (X[2] - X[2].min()) / (X[2].max() - X[2].min())\n",
        "X_norm"
      ]
    },
    {
      "cell_type": "markdown",
      "source": [],
      "metadata": {
        "id": "C5nxovPLRmBY"
      }
    },
    {
      "cell_type": "code",
      "execution_count": 123,
      "metadata": {
        "colab": {
          "base_uri": "https://localhost:8080/",
          "height": 265
        },
        "id": "8i9pB-3-fMD4",
        "outputId": "8e565c97-418a-435b-a9bd-d4d961fa88ad"
      },
      "outputs": [
        {
          "output_type": "display_data",
          "data": {
            "text/plain": [
              "<Figure size 432x288 with 1 Axes>"
            ],
            "image/png": "[encoded data removed]"
          },
          "metadata": {
            "needs_background": "light"
          }
        }
      ],
      "source": [
        "plt.hist(X[1])\n",
        "plt.show()"
      ]
    },
    {
      "cell_type": "code",
      "execution_count": 124,
      "metadata": {
        "colab": {
          "base_uri": "https://localhost:8080/",
          "height": 265
        },
        "id": "-bnAYQqVfRX-",
        "outputId": "5d33ecc4-1f96-4fbb-e0c5-18afe1d3a862"
      },
      "outputs": [
        {
          "output_type": "display_data",
          "data": {
            "text/plain": [
              "<Figure size 432x288 with 1 Axes>"
            ],
            "image/png": "[encoded data removed]"
          },
          "metadata": {
            "needs_background": "light"
          }
        }
      ],
      "source": [
        "plt.hist(X[2])\n",
        "plt.show()"
      ]
    },
    {
      "cell_type": "code",
      "execution_count": 125,
      "metadata": {
        "colab": {
          "base_uri": "https://localhost:8080/"
        },
        "id": "M57-Pzl_f_rF",
        "outputId": "818c2d18-a5a7-4cf4-d989-1f1e55075534"
      },
      "outputs": [
        {
          "output_type": "stream",
          "name": "stdout",
          "text": [
            "3.0 2.8284271247461903\n"
          ]
        }
      ],
      "source": [
        "X_st = X.copy().astype(np.float64)\n",
        "X1_mean = X[1].mean()\n",
        "X1_std = X[1].std()\n",
        "print(X1_mean, X1_std)"
      ]
    },
    {
      "cell_type": "code",
      "execution_count": 126,
      "metadata": {
        "colab": {
          "base_uri": "https://localhost:8080/"
        },
        "id": "btJMY0YbgKLb",
        "outputId": "afff227c-c590-41b6-c732-ed73d56c837c"
      },
      "outputs": [
        {
          "output_type": "execute_result",
          "data": {
            "text/plain": [
              "array([[ 1.00000000e+00,  1.00000000e+00,  1.00000000e+00,\n",
              "         1.00000000e+00,  1.00000000e+00,  1.00000000e+00,\n",
              "         1.00000000e+00,  1.00000000e+00,  1.00000000e+00,\n",
              "         1.00000000e+00],\n",
              "       [-7.07106781e-01, -7.07106781e-01, -3.53553391e-01,\n",
              "         7.07106781e-01,  0.00000000e+00, -1.06066017e+00,\n",
              "         7.07106781e-01,  2.47487373e+00, -7.07106781e-01,\n",
              "        -3.53553391e-01],\n",
              "       [ 5.00000000e+02,  7.00000000e+02,  7.50000000e+02,\n",
              "         6.00000000e+02,  1.45000000e+03,  8.00000000e+02,\n",
              "         1.50000000e+03,  2.00000000e+03,  4.50000000e+02,\n",
              "         1.00000000e+03],\n",
              "       [ 1.00000000e+00,  1.00000000e+00,  2.00000000e+00,\n",
              "         1.00000000e+00,  2.00000000e+00,  1.00000000e+00,\n",
              "         3.00000000e+00,  3.00000000e+00,  1.00000000e+00,\n",
              "         2.00000000e+00]])"
            ]
          },
          "metadata": {},
          "execution_count": 126
        }
      ],
      "source": [
        "X_st[1] = (X[1] - X1_mean) / X1_std\n",
        "X_st"
      ]
    },
    {
      "cell_type": "code",
      "execution_count": 127,
      "metadata": {
        "colab": {
          "base_uri": "https://localhost:8080/",
          "height": 265
        },
        "id": "-Y1tzWGCgYjA",
        "outputId": "dd2ebdb5-5afc-4438-9fdd-097fff1c22a5"
      },
      "outputs": [
        {
          "output_type": "display_data",
          "data": {
            "text/plain": [
              "<Figure size 432x288 with 1 Axes>"
            ],
            "image/png": "[encoded data removed]"
          },
          "metadata": {
            "needs_background": "light"
          }
        }
      ],
      "source": [
        "plt.hist(X_st[1])\n",
        "plt.show()"
      ]
    },
    {
      "cell_type": "code",
      "execution_count": 128,
      "metadata": {
        "id": "ZlJUBOyzgkJV"
      },
      "outputs": [],
      "source": [
        "def calc_std_fit(x):\n",
        "    res = (x - x.mean()) / x.std()\n",
        "    return res"
      ]
    },
    {
      "cell_type": "code",
      "execution_count": 129,
      "metadata": {
        "id": "fRgWCOxOO-Tt"
      },
      "outputs": [],
      "source": [
        "# import sklearn\n",
        "# from sklearn import preprocessing\n",
        "\n",
        "# preprocessing.StandartScaler() #Стандартизайия\n",
        "# preprocessing.MinMaxScaler() #Нормализация"
      ]
    },
    {
      "cell_type": "code",
      "execution_count": 130,
      "metadata": {
        "id": "6PlDlFY0hGZA"
      },
      "outputs": [],
      "source": [
        "X_st[2] = calc_std_fit(X[2])"
      ]
    },
    {
      "cell_type": "code",
      "execution_count": 131,
      "metadata": {
        "colab": {
          "base_uri": "https://localhost:8080/"
        },
        "id": "LOKhmhJjt9TR",
        "outputId": "1171449b-dfe9-433e-ba5a-0e694fcd69f1"
      },
      "outputs": [
        {
          "output_type": "execute_result",
          "data": {
            "text/plain": [
              "array([[ 1.        ,  1.        ,  1.        ,  1.        ,  1.        ,\n",
              "         1.        ,  1.        ,  1.        ,  1.        ,  1.        ],\n",
              "       [-0.70710678, -0.70710678, -0.35355339,  0.70710678,  0.        ,\n",
              "        -1.06066017,  0.70710678,  2.47487373, -0.70710678, -0.35355339],\n",
              "       [-0.97958969, -0.56713087, -0.46401617, -0.77336028,  0.97958969,\n",
              "        -0.36090146,  1.08270439,  2.11385144, -1.08270439,  0.05155735],\n",
              "       [-0.89625816, -0.89625816,  0.38411064, -0.89625816,  0.38411064,\n",
              "        -0.89625816,  1.66447944,  1.66447944, -0.89625816,  0.38411064]])"
            ]
          },
          "metadata": {},
          "execution_count": 131
        }
      ],
      "source": [
        "X_st[3] = calc_std_fit(X[3])\n",
        "X_st"
      ]
    },
    {
      "cell_type": "code",
      "metadata": {
        "id": "UdGy9tjVhZol"
      },
      "source": [
        "# SGD (Stochastic gradient descent)"
      ],
      "execution_count": 132,
      "outputs": []
    },
    {
      "cell_type": "code",
      "execution_count": 133,
      "metadata": {
        "id": "VDpN7UxYnrcS"
      },
      "outputs": [],
      "source": [
        "def calc_mse(y, y_pred):\n",
        "    err = np.mean((y - y_pred)**2)\n",
        "    return err"
      ]
    },
    {
      "cell_type": "code",
      "execution_count": 134,
      "metadata": {
        "colab": {
          "base_uri": "https://localhost:8080/"
        },
        "id": "4Wwez1pQO-Tu",
        "outputId": "35e08b88-84df-474f-8e1a-d07477bf62f6"
      },
      "outputs": [
        {
          "output_type": "execute_result",
          "data": {
            "text/plain": [
              "array([-0.23415337, -0.23413696,  1.57921282,  0.76743473])"
            ]
          },
          "metadata": {},
          "execution_count": 134
        }
      ],
      "source": [
        "W = np.random.randn(X.shape[0])\n",
        "W"
      ]
    },
    {
      "cell_type": "code",
      "execution_count": 135,
      "metadata": {
        "id": "SgEyis2zlJeb"
      },
      "outputs": [],
      "source": [
        "# классический  GD\n",
        "def eval_model(X, y, iterations, alpha=1e-4):\n",
        "    W = np.random.randn(X.shape[0])\n",
        "    n = X.shape[1]\n",
        "    for i in range(1, iterations+1):\n",
        "        y_pred = np.dot(W, X)\n",
        "        err = calc_mse(y, y_pred)\n",
        "        W -= (alpha * (1/n * 2 * np.dot((y_pred - y), X.T)))\n",
        "        if i % (iterations / 10) == 0:\n",
        "            print(i, W, err)\n",
        "    return W"
      ]
    },
    {
      "cell_type": "code",
      "execution_count": 136,
      "metadata": {
        "colab": {
          "base_uri": "https://localhost:8080/"
        },
        "id": "4nsYMAGjmFlB",
        "outputId": "a3cf85b8-93de-49f5-993f-fdb42cd05abb"
      },
      "outputs": [
        {
          "output_type": "stream",
          "name": "stdout",
          "text": [
            "100 [48.94473361  5.13572063  3.03087164  4.15901061] 86.32200637688133\n",
            "200 [55.49802393  5.49175538  2.38263866  4.54287323] 27.22829232719348\n",
            "300 [56.36711838  5.71048289  1.85487927  4.87452659] 25.761444384247277\n",
            "400 [56.4823773   5.85792198  1.43425702  5.16424219] 25.458733058441158\n",
            "500 [56.49766289  5.96112109  1.09671564  5.41113665] 25.27159669845679\n",
            "600 [56.49969005  6.03587123  0.82450782  5.61831692] 25.14816013082492\n",
            "700 [56.49995889  6.09163208  0.60423802  5.79047023] 25.06635657988186\n",
            "800 [56.49999455  6.1342319   0.42557809  5.9326066 ] 25.012064237630277\n",
            "900 [56.49999928  6.16738265  0.28043529  6.04946622] 24.9760071895491\n",
            "1000 [56.4999999   6.19353679  0.16239276  6.14527522] 24.95205350123849\n"
          ]
        },
        {
          "output_type": "execute_result",
          "data": {
            "text/plain": [
              "array([56.4999999 ,  6.19353679,  0.16239276,  6.14527522])"
            ]
          },
          "metadata": {},
          "execution_count": 136
        }
      ],
      "source": [
        "eval_model(X_st, y, iterations=1000, alpha=1e-2)"
      ]
    },
    {
      "cell_type": "code",
      "execution_count": 137,
      "metadata": {
        "id": "IoOnMJ_xO-Tv"
      },
      "outputs": [],
      "source": [
        "# стохастический GS\n",
        "def eval_sgd_model(X, y, iterations, qty_in_batch, alpha=1e-4):\n",
        "    W = np.random.randn(X.shape[0])\n",
        "    n = X.shape[1]\n",
        "    n_batch = n // qty_in_batch\n",
        "    \n",
        "    if n % qty_in_batch != 0:\n",
        "        n_batch += 1\n",
        "        \n",
        "    for i in range(1, iterations+1):\n",
        "        for b in range(n_batch):\n",
        "            start_ = qty_in_batch*b\n",
        "            end_ = qty_in_batch*(b+1)\n",
        "#             print(b, n_batch, start_, end_)\n",
        "            X_tmp = X[:, start_ : end_]\n",
        "            y_tmp = y[start_ : end_]\n",
        "\n",
        "            y_pred_tmp = np.dot(W, X_tmp)\n",
        "            err = calc_mse(y_tmp, y_pred_tmp)\n",
        "\n",
        "            W -= (alpha * (1/n * 2 * np.dot((y_pred_tmp - y_tmp), X_tmp.T)))\n",
        "        \n",
        "        if i % (iterations / 10) == 0:\n",
        "            print(i, W, err)\n",
        "    return W"
      ]
    },
    {
      "cell_type": "code",
      "execution_count": 138,
      "metadata": {
        "colab": {
          "base_uri": "https://localhost:8080/"
        },
        "id": "2aXap4Vsm3GV",
        "outputId": "ea6a8349-b541-4a5a-837c-c192782fabf0"
      },
      "outputs": [
        {
          "output_type": "stream",
          "name": "stdout",
          "text": [
            "5000 [56.51062031  6.31269557 -0.36446011  6.58451737] 11.289353911527972\n",
            "10000 [56.51062035  6.31272262 -0.3645908   6.58462533] 11.289182005570598\n",
            "15000 [56.51062035  6.31272262 -0.3645908   6.58462533] 11.289181999330378\n",
            "20000 [56.51062035  6.31272262 -0.3645908   6.58462533] 11.289181999330424\n",
            "25000 [56.51062035  6.31272262 -0.3645908   6.58462533] 11.289181999330424\n",
            "30000 [56.51062035  6.31272262 -0.3645908   6.58462533] 11.289181999330424\n",
            "35000 [56.51062035  6.31272262 -0.3645908   6.58462533] 11.289181999330424\n",
            "40000 [56.51062035  6.31272262 -0.3645908   6.58462533] 11.289181999330424\n",
            "45000 [56.51062035  6.31272262 -0.3645908   6.58462533] 11.289181999330424\n",
            "50000 [56.51062035  6.31272262 -0.3645908   6.58462533] 11.289181999330424\n"
          ]
        },
        {
          "output_type": "execute_result",
          "data": {
            "text/plain": [
              "array([56.51062035,  6.31272262, -0.3645908 ,  6.58462533])"
            ]
          },
          "metadata": {},
          "execution_count": 138
        }
      ],
      "source": [
        "eval_sgd_model(X_st, y, iterations=50000, qty_in_batch=4, alpha=1e-2)"
      ]
    },
    {
      "cell_type": "code",
      "execution_count": 139,
      "metadata": {
        "id": "7AVoe1Mswjni"
      },
      "outputs": [],
      "source": [
        "def eval_model_reg2(X, y, iterations, alpha=1e-4, lambda_=1e-8):\n",
        "    np.random.seed(42)\n",
        "    W = np.random.randn(X.shape[0])\n",
        "    n = X.shape[1]\n",
        "    for i in range(1, iterations+1):\n",
        "        y_pred = np.dot(W, X)\n",
        "        err = calc_mse(y, y_pred)\n",
        "        W -= alpha * (1/n * 2 * np.dot((y_pred - y), X.T) + lambda_ * W) \n",
        "#         if i % (iterations / 10) == 0:\n",
        "#             print(i, W, err)\n",
        "    return W"
      ]
    },
    {
      "cell_type": "code",
      "execution_count": 140,
      "metadata": {
        "id": "vLJL6j8Lw6OA"
      },
      "outputs": [],
      "source": [
        "W = eval_model_reg2(X_st, y, iterations=5000, alpha=1e-2, lambda_=1e-4)"
      ]
    },
    {
      "cell_type": "code",
      "execution_count": 141,
      "metadata": {
        "colab": {
          "base_uri": "https://localhost:8080/"
        },
        "id": "I-vw_ug4O-Tw",
        "outputId": "fbc5f7a8-ef86-479e-d0d8-c256cc122f50"
      },
      "outputs": [
        {
          "output_type": "execute_result",
          "data": {
            "text/plain": [
              "array([56.49717514,  6.30231751, -0.35424091,  6.56978425])"
            ]
          },
          "metadata": {},
          "execution_count": 141
        }
      ],
      "source": [
        "W"
      ]
    },
    {
      "cell_type": "code",
      "execution_count": 142,
      "metadata": {
        "colab": {
          "base_uri": "https://localhost:8080/"
        },
        "outputId": "dfc91adb-de04-4e30-e6c8-60fe87a8e063",
        "id": "u-Ai9sZjO-Tw"
      },
      "outputs": [
        {
          "output_type": "stream",
          "name": "stdout",
          "text": [
            "500 [56.49767254  5.83477719  1.36781865  5.25424451] 25.41382962551478\n",
            "1000 [56.4999999   6.17124081  0.25269258  6.07416416] 24.96978439147539\n",
            "1500 [56.5         6.2575128  -0.13774522  6.39128671] 24.913059475565504\n",
            "2000 [56.5         6.28678323 -0.27772011  6.50655795] 24.905712417850072\n",
            "2500 [56.5         6.29722767 -0.32807425  6.54810646] 24.9047605537917\n",
            "3000 [56.5         6.30098239 -0.34619733  6.56306445] 24.904637232271703\n",
            "3500 [56.5         6.30233363 -0.3527205   6.5684486 ] 24.904621254991206\n",
            "4000 [56.5         6.30281999 -0.35506846  6.57038658] 24.904619185007856\n",
            "4500 [56.5         6.30299505 -0.35591359  6.57108415] 24.904618916825118\n",
            "5000 [56.5         6.30305806 -0.35621778  6.57133523] 24.90461888207991\n"
          ]
        },
        {
          "output_type": "execute_result",
          "data": {
            "text/plain": [
              "array([56.5       ,  6.30305806, -0.35621778,  6.57133523])"
            ]
          },
          "metadata": {},
          "execution_count": 142
        }
      ],
      "source": [
        "eval_model(X_st, y, iterations=5000, alpha=1e-2)"
      ]
    },
    {
      "cell_type": "markdown",
      "metadata": {
        "id": "4tdQOto5O-Tw"
      },
      "source": [
        "## Д/з"
      ]
    },
    {
      "cell_type": "markdown",
      "metadata": {
        "id": "i-icp82sO-Tx"
      },
      "source": [
        "* Постройте график зависимости весов всех признаков от lambda в L2-регуляризации (на данных из урока). Сделайте вывод"
      ]
    },
    {
      "cell_type": "code",
      "source": [
        "W_lambda_e2 = eval_model_reg2(X_st, y, iterations=5000, alpha=1e-2, lambda_=1e2)\n",
        "W_lambda_e1 = eval_model_reg2(X_st, y, iterations=5000, alpha=1e-2, lambda_=1e1)\n",
        "W_lambda_1 = eval_model_reg2(X_st, y, iterations=5000, alpha=1e-2, lambda_=1)\n",
        "W_lambda_1e_1 = eval_model_reg2(X_st, y, iterations=5000, alpha=1e-2, lambda_=1e-1)\n",
        "W_lambda_1e_2 = eval_model_reg2(X_st, y, iterations=5000, alpha=1e-2, lambda_=1e-2)\n",
        "W_lambda_1e_3 = eval_model_reg2(X_st, y, iterations=5000, alpha=1e-2, lambda_=1e-3)\n",
        "W_lambda_1e_4 = eval_model_reg2(X_st, y, iterations=5000, alpha=1e-2, lambda_=1e-4)\n",
        "W_lambda_1e_5 = eval_model_reg2(X_st, y, iterations=5000, alpha=1e-2, lambda_=1e-5)\n",
        "print(W_lambda_e2)\n",
        "print(W_lambda_e1)\n",
        "print(W_lambda_1)\n",
        "print(W_lambda_1e_1)\n",
        "print(W_lambda_1e_2)\n",
        "print(W_lambda_1e_3)\n",
        "print(W_lambda_1e_4)\n",
        "print(W_lambda_1e_5)"
      ],
      "metadata": {
        "colab": {
          "base_uri": "https://localhost:8080/"
        },
        "id": "s4uPQxzfQKKX",
        "outputId": "25c5bfe1-89d7-4e01-8b35-3aa12ae6a16c"
      },
      "execution_count": 143,
      "outputs": [
        {
          "output_type": "stream",
          "name": "stdout",
          "text": [
            "[1.10784314 0.20547419 0.19795963 0.20576233]\n",
            "[9.41666667 1.44984507 1.33835494 1.42938586]\n",
            "[37.66666667  4.01145689  2.67324854  3.68757438]\n",
            "[53.80952381  5.73058911  0.98368306  5.51609942]\n",
            "[56.21890547  6.23067581 -0.16462974  6.42092637]\n",
            "[56.47176412  6.29561264 -0.33623812  6.55564816]\n",
            "[56.49717514  6.30231751 -0.35424091  6.56978425]\n",
            "[56.4997175   6.3029902  -0.35605002  6.57120483]\n"
          ]
        }
      ]
    },
    {
      "cell_type": "code",
      "source": [
        "%matplotlib inline\n",
        "\n",
        "plt.title('Изменение весов в зависимости от Lambda')\n",
        "plt.xlabel('Порядковый номер веса')\n",
        "plt.ylabel('Значения весов')\n",
        "plt.plot([0, 1, 2, 3], W_lambda_e2, color='r',  label = 'Lambda = e2')\n",
        "plt.plot([0, 1, 2, 3], W_lambda_e1, color='orange',  label = 'Lambda = e1')\n",
        "plt.plot([0, 1, 2, 3], W_lambda_1, color='y',  label = 'Lambda = 1')\n",
        "plt.plot([0, 1, 2, 3], W_lambda_1e_1, color='g',  label = 'Lambda = 1e-1')\n",
        "plt.plot([0, 1, 2, 3], W_lambda_1e_2, color='c',  label = 'Lambda = 1e-2')\n",
        "plt.plot([0, 1, 2, 3], W_lambda_1e_3, color='b',  label = 'Lambda = 1e-3')\n",
        "plt.plot([0, 1, 2, 3], W_lambda_1e_4, color='m',  label = 'Lambda = 1e-4')\n",
        "plt.plot([0, 1, 2, 3], W_lambda_1e_5, color='k',  label = 'Lambda = 1e-5')\n",
        "\n",
        "plt.show()"
      ],
      "metadata": {
        "colab": {
          "base_uri": "https://localhost:8080/",
          "height": 295
        },
        "id": "4NllU8x8QMXw",
        "outputId": "f52a7b15-7bf0-4460-c286-72bd556cd98d"
      },
      "execution_count": 144,
      "outputs": [
        {
          "output_type": "display_data",
          "data": {
            "text/plain": [
              "<Figure size 432x288 with 1 Axes>"
            ],
            "image/png": "[encoded data removed]"
          },
          "metadata": {
            "needs_background": "light"
          }
        }
      ]
    },
    {
      "cell_type": "markdown",
      "source": [
        "Вывод: Чем больше Lambda, тем меньше значения весов из-за стремления среднеквадратической ошибки к минимуму"
      ],
      "metadata": {
        "id": "YsEUz1KJQRGg"
      }
    },
    {
      "cell_type": "markdown",
      "metadata": {
        "id": "ZwTwqRKsO-Tx"
      },
      "source": [
        "* Можно ли к одному и тому же признаку применить сразу и нормализацию, и стандартизацию?"
      ]
    },
    {
      "cell_type": "code",
      "source": [
        "from sklearn.preprocessing import StandardScaler\n",
        "from sklearn.preprocessing import MinMaxScaler"
      ],
      "metadata": {
        "id": "1gUM1pQ0QVtY"
      },
      "execution_count": 145,
      "outputs": []
    },
    {
      "cell_type": "markdown",
      "source": [
        "Сначала стандартизируем, потом нормируем."
      ],
      "metadata": {
        "id": "UUEeoroIQWbm"
      }
    },
    {
      "cell_type": "code",
      "source": [
        "X_test1 = X.copy()\n",
        "scaler_stand = StandardScaler()\n",
        "scaler_norm = MinMaxScaler()\n",
        "X_test2 = scaler_stand.fit_transform(X_test1)\n",
        "X_test3 = scaler_norm.fit_transform(X_test2)\n",
        "print(X_test3)\n",
        "print(X_test3.min(), X_test3.max())"
      ],
      "metadata": {
        "colab": {
          "base_uri": "https://localhost:8080/"
        },
        "id": "nJ_29WFfQY_0",
        "outputId": "05002591-76ad-4457-dd81-3c5c6fdb6a16"
      },
      "execution_count": 146,
      "outputs": [
        {
          "output_type": "stream",
          "name": "stdout",
          "text": [
            "[[0.00000000e+00 0.00000000e+00 0.00000000e+00 0.00000000e+00\n",
            "  0.00000000e+00 1.25000000e-03 0.00000000e+00 0.00000000e+00\n",
            "  0.00000000e+00 0.00000000e+00]\n",
            " [0.00000000e+00 0.00000000e+00 1.33511348e-03 6.67779633e-03\n",
            "  1.38026225e-03 0.00000000e+00 2.66844563e-03 4.50225113e-03\n",
            "  0.00000000e+00 1.00100100e-03]\n",
            " [1.00000000e+00 1.00000000e+00 1.00000000e+00 1.00000000e+00\n",
            "  1.00000000e+00 1.00000000e+00 1.00000000e+00 1.00000000e+00\n",
            "  1.00000000e+00 1.00000000e+00]\n",
            " [0.00000000e+00 0.00000000e+00 1.33511348e-03 0.00000000e+00\n",
            "  6.90131125e-04 1.25000000e-03 1.33422282e-03 1.00050025e-03\n",
            "  0.00000000e+00 1.00100100e-03]]\n",
            "0.0 1.0\n"
          ]
        }
      ]
    },
    {
      "cell_type": "markdown",
      "source": [
        "Данные отмасштабированы от 0 до 1 по последнему методу. Теперь наоборот: нормируем, потом стандартизируем."
      ],
      "metadata": {
        "id": "80tn4WilQakv"
      }
    },
    {
      "cell_type": "code",
      "source": [
        "X_test11 = X.copy()\n",
        "scaler_stand = StandardScaler()\n",
        "scaler_norm = MinMaxScaler()\n",
        "X_test22 = scaler_norm.fit_transform(X_test1)\n",
        "X_test33 = scaler_stand.fit_transform(X_test2)\n",
        "print(X_test33)\n",
        "print(X_test33.min(), X_test33.max())"
      ],
      "metadata": {
        "colab": {
          "base_uri": "https://localhost:8080/"
        },
        "id": "DF641HtAQdGr",
        "outputId": "ec55d756-5a48-4b0a-b030-af315dc98b7c"
      },
      "execution_count": 147,
      "outputs": [
        {
          "output_type": "stream",
          "name": "stdout",
          "text": [
            "[[-0.57735027 -0.57735027 -0.57940718 -0.58249071 -0.57894479 -0.57638682\n",
            "  -0.58043426 -0.58158972 -0.57735027 -0.57889218]\n",
            " [-0.57735027 -0.57735027 -0.57632113 -0.5670349  -0.57575501 -0.57927597\n",
            "  -0.57426353 -0.57117319 -0.57735027 -0.57657893]\n",
            " [ 1.73205081  1.73205081  1.73204943  1.73201633  1.73204971  1.7320496\n",
            "   1.73204669  1.73203785  1.73205081  1.73205004]\n",
            " [-0.57735027 -0.57735027 -0.57632113 -0.58249071 -0.5773499  -0.57638682\n",
            "  -0.5773489  -0.57927494 -0.57735027 -0.57657893]]\n",
            "-0.582490711396413 1.7320508075688774\n"
          ]
        }
      ]
    },
    {
      "cell_type": "markdown",
      "source": [
        "Данные отмасштабированы по последнему использованному методу стандартизации."
      ],
      "metadata": {
        "id": "CKWKNAcbQf0p"
      }
    },
    {
      "cell_type": "markdown",
      "source": [
        "Ответ: Да, это возможно"
      ],
      "metadata": {
        "id": "snSS0BseRG3C"
      }
    },
    {
      "cell_type": "markdown",
      "metadata": {
        "id": "Oi-Dttk5O-Tx"
      },
      "source": [
        "* Напишите функцию наподобие eval_model_reg2, но для применения L1-регуляризации."
      ]
    },
    {
      "cell_type": "code",
      "source": [
        "def eval_model_reg1(X, y, iterations, alpha=1e-4, lambda_=1e-2):\n",
        "    np.random.seed(42)\n",
        "    W = np.random.randn(X.shape[0])\n",
        "    n = X.shape[1]\n",
        "    for i in range(1, iterations+1):\n",
        "        y_pred = np.dot(W, X)\n",
        "        err = calc_mse(y, y_pred)\n",
        "        sum_w = 0 \n",
        "        W -= alpha * (1/n * 2 * np.dot((y_pred - y), X.T) + lambda_ * np.sum(W))\n",
        "#         if i % (iterations / 10) == 0:\n",
        "#             print(i, W, err)\n",
        "    return W"
      ],
      "metadata": {
        "id": "mCE58Ab2QqNA"
      },
      "execution_count": 148,
      "outputs": []
    },
    {
      "cell_type": "code",
      "execution_count": 149,
      "metadata": {
        "colab": {
          "base_uri": "https://localhost:8080/"
        },
        "id": "dVeVAbWxO-Tx",
        "outputId": "37271ba5-dbd6-4b59-d7ed-7ad19b3e3c21"
      },
      "outputs": [
        {
          "output_type": "execute_result",
          "data": {
            "text/plain": [
              "array([56.15860445,  6.12223246, -0.41521581,  6.41348928])"
            ]
          },
          "metadata": {},
          "execution_count": 149
        }
      ],
      "source": [
        "W_lambda1_1e_2 = eval_model_reg1(X_st, y, iterations=5000, alpha=1e-2)\n",
        "W_lambda1_1e_2"
      ]
    },
    {
      "cell_type": "code",
      "source": [
        "W_lambda2_1e_2 = eval_model_reg2(X_st, y, iterations=5000, alpha=1e-2, lambda_=1e-2)\n",
        "W_lambda2_1e_2"
      ],
      "metadata": {
        "colab": {
          "base_uri": "https://localhost:8080/"
        },
        "id": "ifWkHiRnQ_Yr",
        "outputId": "3b4d7803-186d-461e-dea6-b559f5e150de"
      },
      "execution_count": 150,
      "outputs": [
        {
          "output_type": "execute_result",
          "data": {
            "text/plain": [
              "array([56.21890547,  6.23067581, -0.16462974,  6.42092637])"
            ]
          },
          "metadata": {},
          "execution_count": 150
        }
      ]
    }
  ],
  "metadata": {
    "colab": {
      "provenance": []
    },
    "kernelspec": {
      "display_name": "Python 3",
      "language": "python",
      "name": "python3"
    },
    "language_info": {
      "codemirror_mode": {
        "name": "ipython",
        "version": 3
      },
      "file_extension": ".py",
      "mimetype": "text/x-python",
      "name": "python",
      "nbconvert_exporter": "python",
      "pygments_lexer": "ipython3",
      "version": "3.7.3"
    }
  },
  "nbformat": 4,
  "nbformat_minor": 0
}