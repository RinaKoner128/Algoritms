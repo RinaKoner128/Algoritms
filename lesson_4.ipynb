{
  "cells": [
    {
      "cell_type": "markdown",
      "metadata": {
        "id": "W66Rn-AZgovX"
      },
      "source": [
        "### Домашнее задание <a class=\"anchor\" id=\"hw\"></a><center>"
      ]
    },
    {
      "cell_type": "code",
      "execution_count": 1,
      "metadata": {
        "id": "_u5bV-OlT34p"
      },
      "outputs": [],
      "source": [
        "import numpy as np\n",
        "import matplotlib.pyplot as plt\n",
        "from sklearn.datasets import make_classification, make_regression\n",
        "from sklearn.model_selection import train_test_split\n",
        "from tqdm import tqdm\n",
        "import warnings\n",
        "warnings.filterwarnings('ignore')"
      ]
    },
    {
      "cell_type": "code",
      "execution_count": 2,
      "metadata": {
        "id": "9MUNGqnJgovd"
      },
      "outputs": [],
      "source": [
        "# Реализуем класс узла\n",
        "\n",
        "class Node:\n",
        "    \n",
        "    def __init__(self, index, t, true_branch, false_branch):\n",
        "        self.index = index  # индекс признака, по которому ведется сравнение с порогом в этом узле\n",
        "        self.t = t  # значение порога\n",
        "        self.true_branch = true_branch  # поддерево, удовлетворяющее условию в узле\n",
        "        self.false_branch = false_branch  # поддерево, не удовлетворяющее условию в узле"
      ]
    },
    {
      "cell_type": "code",
      "execution_count": 3,
      "metadata": {
        "id": "iXAsgS4Zgove"
      },
      "outputs": [],
      "source": [
        "# Расчет прироста\n",
        "\n",
        "def gain(left_labels, right_labels, root_criterion, criterion):\n",
        "\n",
        "    # доля выборки, ушедшая в левое поддерево\n",
        "    p = float(left_labels.shape[0]) / (left_labels.shape[0] + right_labels.shape[0])\n",
        "    \n",
        "    return root_criterion - p * criterion(left_labels) - (1 - p) * criterion(right_labels)"
      ]
    },
    {
      "cell_type": "code",
      "execution_count": 4,
      "metadata": {
        "id": "tLmKWShsgovf"
      },
      "outputs": [],
      "source": [
        "# Разбиение датасета в узле\n",
        "\n",
        "def split(data, labels, column_index, t):\n",
        "    \n",
        "    left = np.where(data[:, column_index] <= t)\n",
        "    right = np.where(data[:, column_index] > t)\n",
        "        \n",
        "    true_data = data[left]\n",
        "    false_data = data[right]\n",
        "    \n",
        "    true_labels = labels[left]\n",
        "    false_labels = labels[right]\n",
        "        \n",
        "    return true_data, false_data, true_labels, false_labels"
      ]
    },
    {
      "cell_type": "code",
      "execution_count": 5,
      "metadata": {
        "id": "A6QPbAXzgovf"
      },
      "outputs": [],
      "source": [
        "def predict_object(obj, node):\n",
        "\n",
        "    #  Останавливаем рекурсию, если достигли листа\n",
        "    if isinstance(node, Leaf):\n",
        "        answer = node.prediction\n",
        "        return answer\n",
        "\n",
        "    if obj[node.index] <= node.t:\n",
        "        return predict_object(obj, node.true_branch)\n",
        "    else:\n",
        "        return predict_object(obj, node.false_branch)"
      ]
    },
    {
      "cell_type": "code",
      "execution_count": 6,
      "metadata": {
        "id": "nsABVbSJgovg"
      },
      "outputs": [],
      "source": [
        "def predict(data, tree):\n",
        "    \n",
        "    preds = []\n",
        "    for obj in data:\n",
        "        prediction = predict_object(obj, tree)\n",
        "        preds.append(prediction)\n",
        "    return preds"
      ]
    },
    {
      "cell_type": "code",
      "execution_count": 7,
      "metadata": {
        "id": "jP54kj6ugovg"
      },
      "outputs": [],
      "source": [
        "# Напечатаем ход нашего дерева\n",
        "def print_tree(node, spacing=\"\"):\n",
        "\n",
        "    # Если лист, то выводим его прогноз\n",
        "    if isinstance(node, Leaf):\n",
        "        print(spacing + \"Прогноз:\", node.prediction)\n",
        "        return\n",
        "\n",
        "    # Выведем значение индекса и порога на этом узле\n",
        "    print(spacing + 'Индекс', str(node.index), '<=', str(node.t))\n",
        "\n",
        "    # Рекурсионный вызов функции на положительном поддереве\n",
        "    print (spacing + '--> True:')\n",
        "    print_tree(node.true_branch, spacing + \"  \")\n",
        "\n",
        "    # Рекурсионный вызов функции на отрицательном поддереве\n",
        "    print (spacing + '--> False:')\n",
        "    print_tree(node.false_branch, spacing + \"  \")"
      ]
    },
    {
      "cell_type": "markdown",
      "metadata": {
        "id": "ZCsofWSUgovh"
      },
      "source": [
        "**1. Реализуйте дерево для задачи регрессии. Возьмите за основу дерево, реализованное в методичке, заменив механизм предсказания в листе на взятие среднего значения по выборке, и критерий Джини на дисперсию значений.**"
      ]
    },
    {
      "cell_type": "code",
      "execution_count": 8,
      "metadata": {
        "id": "PHZyLk4_govh"
      },
      "outputs": [],
      "source": [
        "# сгенерируем данные\n",
        "data, targets = make_regression(n_features=2, n_informative=2, random_state=5)"
      ]
    },
    {
      "cell_type": "code",
      "execution_count": 9,
      "metadata": {
        "id": "WjvDaWcRgovi"
      },
      "outputs": [],
      "source": [
        "# Разобьем выборку на обучающую и тестовую\n",
        "\n",
        "from sklearn.model_selection import train_test_split\n",
        "\n",
        "train_data_regr, test_data_regr, train_target_regr, test_target_regr = train_test_split(data, \n",
        "                                                                                        targets, \n",
        "                                                                                        test_size=0.3,\n",
        "                                                                                        random_state=1)"
      ]
    },
    {
      "cell_type": "code",
      "execution_count": 10,
      "metadata": {
        "id": "b9XHnIj-govj"
      },
      "outputs": [],
      "source": [
        "# И класс терминального узла (листа)\n",
        "\n",
        "class Leaf:\n",
        "    \n",
        "    def __init__(self, data, targets):\n",
        "        self.data = data\n",
        "        self.targets = targets\n",
        "        self.prediction = self.predict()\n",
        "        \n",
        "    def predict(self):\n",
        "        return self.targets.mean()"
      ]
    },
    {
      "cell_type": "code",
      "execution_count": 11,
      "metadata": {
        "id": "0NFO0Yukgovj"
      },
      "outputs": [],
      "source": [
        "def mse(targets):\n",
        "    return np.mean((targets - targets.mean())**2)"
      ]
    },
    {
      "cell_type": "code",
      "execution_count": 12,
      "metadata": {
        "id": "GeEOlHvUgovj"
      },
      "outputs": [],
      "source": [
        "# Нахождение наилучшего разбиения\n",
        "\n",
        "def find_best_split(data, targets):\n",
        "    \n",
        "    #  обозначим минимальное количество объектов в узле\n",
        "    min_samples_leaf = 5\n",
        "\n",
        "    root_mse = mse(targets)\n",
        "\n",
        "    best_gain = 0\n",
        "    best_t = None\n",
        "    best_index = None\n",
        "    \n",
        "    n_features = data.shape[1]\n",
        "    \n",
        "    for index in range(n_features):\n",
        "        # будем проверять только уникальные значения признака, исключая повторения\n",
        "        t_values = np.unique(data[:, index])\n",
        "        \n",
        "        for t in t_values:\n",
        "            true_data, false_data, true_targets, false_targets = split(data, targets, index, t)\n",
        "            #  пропускаем разбиения, в которых в узле остается менее 5 объектов\n",
        "            if len(true_data) < min_samples_leaf or len(false_data) < min_samples_leaf:\n",
        "                continue\n",
        "            \n",
        "            current_gain = gain(true_targets, false_targets, root_mse, mse)\n",
        "            \n",
        "            #  выбираем порог, на котором получается максимальный прирост качества\n",
        "            if current_gain > best_gain:\n",
        "                best_gain, best_t, best_index = current_gain, t, index\n",
        "\n",
        "    return best_gain, best_t, best_index"
      ]
    },
    {
      "cell_type": "code",
      "execution_count": 13,
      "metadata": {
        "id": "HYo1CGJggovk"
      },
      "outputs": [],
      "source": [
        "# Построение дерева с помощью рекурсивной функции\n",
        "\n",
        "def build_tree(data, target):\n",
        "\n",
        "    gain, t, index = find_best_split(data, target)\n",
        "\n",
        "    #  Базовый случай - прекращаем рекурсию, когда нет прироста в качества\n",
        "    if gain == 0:\n",
        "        return Leaf(data, target)\n",
        "\n",
        "    true_data, false_data, true_target, false_target = split(data, target, index, t)\n",
        "\n",
        "    # Рекурсивно строим два поддерева\n",
        "    true_branch = build_tree(true_data, true_target)\n",
        "\n",
        "    false_branch = build_tree(false_data, false_target)\n",
        "\n",
        "    node = Node(index, t, true_branch, false_branch)\n",
        "\n",
        "    # Возвращаем класс узла со всеми поддеревьями, то есть целого дерева\n",
        "    return node"
      ]
    },
    {
      "cell_type": "code",
      "execution_count": 17,
      "metadata": {
        "scrolled": true,
        "colab": {
          "base_uri": "https://localhost:8080/"
        },
        "id": "7OGb6U4Sgovk",
        "outputId": "5d21a7a2-5303-432a-bc93-8da9b1a881ea"
      },
      "outputs": [
        {
          "output_type": "stream",
          "name": "stdout",
          "text": [
            "Индекс 0 <= -0.10061434630710828\n",
            "--> True:\n",
            "  Индекс 0 <= -0.8568531547160899\n",
            "  --> True:\n",
            "    Прогноз: -109.75655471490919\n",
            "  --> False:\n",
            "    Индекс 0 <= -0.5732155560138283\n",
            "    --> True:\n",
            "      Прогноз: -54.35634172577482\n",
            "    --> False:\n",
            "      Индекс 1 <= -0.3058530211666308\n",
            "      --> True:\n",
            "        Прогноз: -29.105630694331246\n",
            "      --> False:\n",
            "        Прогноз: -10.772916465924025\n",
            "--> False:\n",
            "  Индекс 0 <= 0.9068894675659355\n",
            "  --> True:\n",
            "    Индекс 1 <= 0.6566194702604272\n",
            "    --> True:\n",
            "      Индекс 1 <= -1.0650326193820066\n",
            "      --> True:\n",
            "        Прогноз: 7.798014762375311\n",
            "      --> False:\n",
            "        Индекс 0 <= 0.41367880834311616\n",
            "        --> True:\n",
            "          Прогноз: 17.019366109004093\n",
            "        --> False:\n",
            "          Прогноз: 35.95087900163848\n",
            "    --> False:\n",
            "      Индекс 0 <= 0.34691932708774675\n",
            "      --> True:\n",
            "        Прогноз: 37.4238776327042\n",
            "      --> False:\n",
            "        Прогноз: 61.9558421220885\n",
            "  --> False:\n",
            "    Индекс 0 <= 1.3348485742415819\n",
            "    --> True:\n",
            "      Прогноз: 77.83232966482356\n",
            "    --> False:\n",
            "      Прогноз: 123.1031262020856\n"
          ]
        }
      ],
      "source": [
        "# Построим дерево по обучающей выборке\n",
        "my_tree = build_tree(train_data_regr, train_target_regr)\n",
        "print_tree(my_tree)"
      ]
    },
    {
      "cell_type": "code",
      "execution_count": 16,
      "metadata": {
        "colab": {
          "base_uri": "https://localhost:8080/"
        },
        "id": "C5j3jI5wgovm",
        "outputId": "49cad8c6-da23-4ebf-d1c8-186e967608fa"
      },
      "outputs": [
        {
          "output_type": "stream",
          "name": "stdout",
          "text": [
            "0.9473030504970069\n",
            "0.8558102546515577\n"
          ]
        }
      ],
      "source": [
        "from sklearn.metrics import r2_score\n",
        "\n",
        "train_answers = predict(train_data_regr, my_tree)\n",
        "train_r2 = r2_score(train_target_regr, train_answers)\n",
        "print(train_r2)\n",
        "\n",
        "answers = predict(test_data_regr, my_tree)\n",
        "test_r2 = r2_score(test_target_regr, answers)\n",
        "print(test_r2)"
      ]
    }
  ],
  "metadata": {
    "kernelspec": {
      "display_name": "Python 3",
      "language": "python",
      "name": "python3"
    },
    "language_info": {
      "codemirror_mode": {
        "name": "ipython",
        "version": 3
      },
      "file_extension": ".py",
      "mimetype": "text/x-python",
      "name": "python",
      "nbconvert_exporter": "python",
      "pygments_lexer": "ipython3",
      "version": "3.8.10"
    },
    "colab": {
      "provenance": [],
      "toc_visible": true
    }
  },
  "nbformat": 4,
  "nbformat_minor": 0
}