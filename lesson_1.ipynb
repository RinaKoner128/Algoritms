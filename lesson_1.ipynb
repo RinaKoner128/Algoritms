{
  "cells": [
    {
      "cell_type": "markdown",
      "metadata": {
        "id": "1rq8RWAoXtqQ"
      },
      "source": [
        "### <caenter> Подготовительная часть для выполнения практического задания"
      ]
    },
    {
      "cell_type": "code",
      "execution_count": 1,
      "metadata": {
        "pycharm": {
          "name": "#%%\n"
        },
        "id": "Rt_exphpXtqU"
      },
      "outputs": [],
      "source": [
        "%matplotlib inline\n",
        "import numpy as np\n",
        "import matplotlib.pyplot as plt"
      ]
    },
    {
      "cell_type": "code",
      "execution_count": 2,
      "metadata": {
        "pycharm": {
          "name": "#%%\n"
        },
        "id": "TR0SNkQPXtqW"
      },
      "outputs": [],
      "source": [
        "y = np.array([45, 55, 50, 59, 65, 35, 75, 80, 50, 60])\n",
        "\n",
        "X = np.array(\n",
        "    [\n",
        "        [1, 1, 1, 1, 1, 1, 1, 1, 1, 1],\n",
        "        [1, 1, 2, 1, 3, 0, 5, 10, 1, 2]\n",
        "    ]\n",
        ")"
      ]
    },
    {
      "cell_type": "code",
      "execution_count": 3,
      "metadata": {
        "pycharm": {
          "name": "#%%\n"
        },
        "colab": {
          "base_uri": "https://localhost:8080/",
          "height": 265
        },
        "id": "moW2K0jxXtqW",
        "outputId": "58a6d382-8808-49b2-cb75-365fb6d0a983"
      },
      "outputs": [
        {
          "output_type": "display_data",
          "data": {
            "text/plain": [
              "<Figure size 432x288 with 1 Axes>"
            ],
            "image/png": "[encoded data removed]"
          },
          "metadata": {
            "needs_background": "light"
          }
        }
      ],
      "source": [
        "plt.scatter(X[1], y)\n",
        "plt.plot(X[1], 35 * X[0] + X[1] * 5, label='model1')\n",
        "plt.plot(X[1], 40 * X[0] + X[1] * 7.5, label='model2')\n",
        "plt.legend(loc='best')\n",
        "plt.show()"
      ]
    },
    {
      "cell_type": "code",
      "execution_count": 4,
      "metadata": {
        "pycharm": {
          "name": "#%%\n"
        },
        "id": "QudwPihAXtqX"
      },
      "outputs": [],
      "source": [
        "y_pred1 = np.ones(10) * 35 + X[1] * 5\n",
        "y_pred2 = np.ones(10) * 40 + X[1] * 7.5"
      ]
    },
    {
      "cell_type": "code",
      "execution_count": 5,
      "metadata": {
        "pycharm": {
          "name": "#%%\n"
        },
        "colab": {
          "base_uri": "https://localhost:8080/"
        },
        "id": "W1id9MfkXtqY",
        "outputId": "f7e04eeb-1ff6-4af5-dcee-6f727a704f33"
      },
      "outputs": [
        {
          "output_type": "execute_result",
          "data": {
            "text/plain": [
              "array([40., 40., 45., 40., 50., 35., 60., 85., 40., 45.])"
            ]
          },
          "metadata": {},
          "execution_count": 5
        }
      ],
      "source": [
        "y_pred1"
      ]
    },
    {
      "cell_type": "code",
      "execution_count": 6,
      "metadata": {
        "pycharm": {
          "name": "#%%\n"
        },
        "colab": {
          "base_uri": "https://localhost:8080/"
        },
        "id": "4RwLX4i7XtqY",
        "outputId": "81bdd028-42fa-4b9e-910b-595612cb52ec"
      },
      "outputs": [
        {
          "output_type": "execute_result",
          "data": {
            "text/plain": [
              "array([ 47.5,  47.5,  55. ,  47.5,  62.5,  40. ,  77.5, 115. ,  47.5,\n",
              "        55. ])"
            ]
          },
          "metadata": {},
          "execution_count": 6
        }
      ],
      "source": [
        "y_pred2"
      ]
    },
    {
      "cell_type": "markdown",
      "metadata": {
        "id": "8LQP17JgXtqZ"
      },
      "source": [
        "$\\displaystyle MAE = \\frac{1}{l} \\sum_{i=1}^{l}|y_{i}-\\hat{y_i}|$  \n",
        "$\\displaystyle MSE = \\frac{1}{l} \\sum_{i=1}^{l}(y_{i}-\\hat{y_i})^2$"
      ]
    },
    {
      "cell_type": "code",
      "execution_count": 7,
      "metadata": {
        "pycharm": {
          "name": "#%%\n"
        },
        "id": "_yPgxeMeXtqZ"
      },
      "outputs": [],
      "source": [
        "mae_1 = np.mean(np.abs(y_pred1 - y))\n",
        "mae_2 = np.mean(np.abs(y_pred2 - y))"
      ]
    },
    {
      "cell_type": "code",
      "execution_count": 8,
      "metadata": {
        "pycharm": {
          "name": "#%%\n"
        },
        "colab": {
          "base_uri": "https://localhost:8080/"
        },
        "id": "sx6kIg1xXtqa",
        "outputId": "d17c033f-5325-40e5-e608-c1cb825c8ead"
      },
      "outputs": [
        {
          "output_type": "execute_result",
          "data": {
            "text/plain": [
              "(10.4, 7.9)"
            ]
          },
          "metadata": {},
          "execution_count": 8
        }
      ],
      "source": [
        "mae_1, mae_2"
      ]
    },
    {
      "cell_type": "code",
      "execution_count": 9,
      "metadata": {
        "pycharm": {
          "name": "#%%\n"
        },
        "id": "zKv65MCNXtqa"
      },
      "outputs": [],
      "source": [
        "mse_1 = np.mean((y_pred1 - y) ** 2)\n",
        "mse_2 = np.mean((y_pred2 - y) ** 2)"
      ]
    },
    {
      "cell_type": "code",
      "execution_count": 10,
      "metadata": {
        "pycharm": {
          "name": "#%%\n"
        },
        "colab": {
          "base_uri": "https://localhost:8080/"
        },
        "id": "9VhZ4EeDXtqb",
        "outputId": "fa79756d-8d70-4352-c7f5-ad9d2f091cda"
      },
      "outputs": [
        {
          "output_type": "execute_result",
          "data": {
            "text/plain": [
              "(143.6, 151.35)"
            ]
          },
          "metadata": {},
          "execution_count": 10
        }
      ],
      "source": [
        "mse_1, mse_2"
      ]
    },
    {
      "cell_type": "markdown",
      "metadata": {
        "pycharm": {
          "name": "#%% md\n"
        },
        "id": "Sp45B4zBXtqb"
      },
      "source": [
        "$MAE_1>MAE_2$ но $MSE_1<MSE_2$\n",
        "Выбор метрики:\n",
        " * $MSE$ - в случае, если есть выбросы, и они имеют значение при работе модели\n",
        " * $MAE$ - в случае, если выбросы не важны, модель должна хорошо работать на большинстве моделей"
      ]
    },
    {
      "cell_type": "markdown",
      "metadata": {
        "id": "hQibAnh6Xtqc"
      },
      "source": [
        "Аналитический метод нахождения вектора весов в модели линейной регрессии:\n",
        "$w=(X^{T}\\cdot X)^{-1}\\cdot X^{T}\\cdot Y$\n",
        "\n",
        "Реализация:"
      ]
    },
    {
      "cell_type": "code",
      "execution_count": 11,
      "metadata": {
        "pycharm": {
          "name": "#%%\n"
        },
        "colab": {
          "base_uri": "https://localhost:8080/"
        },
        "id": "94w5H1NcXtqc",
        "outputId": "6c9f9d1c-d077-4a63-922d-4212dc366be6"
      },
      "outputs": [
        {
          "output_type": "execute_result",
          "data": {
            "text/plain": [
              "array([47.23214286,  3.91071429])"
            ]
          },
          "metadata": {},
          "execution_count": 11
        }
      ],
      "source": [
        "W_0 = np.linalg.inv(X @ X.T) @ X @ y\n",
        "W_0\n",
        "# отличается от классического вида, поскольку у нас изначально массив\n",
        "# Х представляет собой транспонированную матрицу\n",
        "# для приведения к классическому виду необходимо изначально\n",
        "# задавать вектор признаков и вектор значений в иной размерности\n",
        "# код ниже"
      ]
    },
    {
      "cell_type": "code",
      "execution_count": 12,
      "metadata": {
        "pycharm": {
          "name": "#%%\n"
        },
        "colab": {
          "base_uri": "https://localhost:8080/"
        },
        "id": "YYJMhclSXtqc",
        "outputId": "30aecb76-2f0c-427b-ece9-d266910d3e3c"
      },
      "outputs": [
        {
          "output_type": "execute_result",
          "data": {
            "text/plain": [
              "array([[47.23214286],\n",
              "       [ 3.91071429]])"
            ]
          },
          "metadata": {},
          "execution_count": 12
        }
      ],
      "source": [
        "X1 = X.swapaxes(0, 1)\n",
        "y1 = y.reshape((len(y), -1))\n",
        "W1 = np.linalg.inv(X1.T @ X1) @ X1.T @ y1\n",
        "W1"
      ]
    },
    {
      "cell_type": "code",
      "execution_count": 13,
      "metadata": {
        "pycharm": {
          "name": "#%%\n"
        },
        "colab": {
          "base_uri": "https://localhost:8080/"
        },
        "id": "Se3o6mbhXtqd",
        "outputId": "6f9cb12f-de87-430e-99cd-6d2a946ef422"
      },
      "outputs": [
        {
          "output_type": "execute_result",
          "data": {
            "text/plain": [
              "array([[ 10,  26],\n",
              "       [ 26, 146]])"
            ]
          },
          "metadata": {},
          "execution_count": 13
        }
      ],
      "source": [
        "# ковариационная матрица\n",
        "np.dot(X, X.T)\n",
        "#np.dot(X1.T,X1)"
      ]
    },
    {
      "cell_type": "code",
      "execution_count": 14,
      "metadata": {
        "pycharm": {
          "name": "#%%\n"
        },
        "colab": {
          "base_uri": "https://localhost:8080/",
          "height": 265
        },
        "id": "V-z0HMDEXtqd",
        "outputId": "375929cb-926a-40fc-c803-5cbe0b8aded6"
      },
      "outputs": [
        {
          "output_type": "display_data",
          "data": {
            "text/plain": [
              "<Figure size 432x288 with 1 Axes>"
            ],
            "image/png": "[encoded data removed]"
          },
          "metadata": {
            "needs_background": "light"
          }
        }
      ],
      "source": [
        "plt.scatter(X[1], y)\n",
        "plt.plot(X[1], y_pred1, label='model1')\n",
        "plt.plot(X[1], 40 * np.ones(10) + X[1] * 7.5, label='model2')\n",
        "plt.plot(X[1], W_0[0] + W_0[1] * X[1], label='analytic_model')\n",
        "plt.legend(loc='best')\n",
        "plt.show()"
      ]
    },
    {
      "cell_type": "code",
      "execution_count": 15,
      "metadata": {
        "pycharm": {
          "name": "#%%\n"
        },
        "id": "B2eU33uUXtqd"
      },
      "outputs": [],
      "source": [
        "y_pred3 = W_0[0] + W_0[1] * X[1]"
      ]
    },
    {
      "cell_type": "code",
      "execution_count": 16,
      "metadata": {
        "pycharm": {
          "name": "#%%\n"
        },
        "id": "p_8BWr5eXtqd"
      },
      "outputs": [],
      "source": [
        "def calc_mae(y, y_pred):\n",
        "    err = np.mean(np.abs(y - y_pred))\n",
        "    return err"
      ]
    },
    {
      "cell_type": "code",
      "execution_count": 17,
      "metadata": {
        "pycharm": {
          "name": "#%%\n"
        },
        "id": "wx1j10JxXtqe"
      },
      "outputs": [],
      "source": [
        "def calc_mse(y, y_pred):\n",
        "    err = np.mean((y - y_pred) ** 2)\n",
        "    return err"
      ]
    },
    {
      "cell_type": "code",
      "execution_count": 18,
      "metadata": {
        "pycharm": {
          "name": "#%%\n"
        },
        "colab": {
          "base_uri": "https://localhost:8080/"
        },
        "id": "lavuc8q6Xtqe",
        "outputId": "219a7322-fbbc-48ed-fdd8-ccc1ef577892"
      },
      "outputs": [
        {
          "output_type": "execute_result",
          "data": {
            "text/plain": [
              "(10.4, 7.9, 6.182142857142859)"
            ]
          },
          "metadata": {},
          "execution_count": 18
        }
      ],
      "source": [
        "calc_mae(y, y_pred1), calc_mae(y, y_pred2), calc_mae(y, y_pred3)"
      ]
    },
    {
      "cell_type": "code",
      "execution_count": 19,
      "metadata": {
        "pycharm": {
          "name": "#%%\n"
        },
        "colab": {
          "base_uri": "https://localhost:8080/"
        },
        "id": "Lhvank0UXtqe",
        "outputId": "3287144e-dacf-4ca4-9c55-1ca2e0eb7728"
      },
      "outputs": [
        {
          "output_type": "execute_result",
          "data": {
            "text/plain": [
              "(143.6, 151.35, 45.93750000000002)"
            ]
          },
          "metadata": {},
          "execution_count": 19
        }
      ],
      "source": [
        "calc_mse(y, y_pred1), calc_mse(y, y_pred2), calc_mse(y, y_pred3)\n"
      ]
    },
    {
      "cell_type": "markdown",
      "metadata": {
        "pycharm": {
          "name": "#%% md\n"
        },
        "id": "eo6fwFbEXtqf"
      },
      "source": [
        "Аналитическая формула имеет недостатки использования при вычислении весов линейной\n",
        "модели в следствии того, что вычисление обратной матрицы при большом количестве признаков\n",
        "имеет высокую вычислительную сложность."
      ]
    },
    {
      "cell_type": "markdown",
      "metadata": {
        "id": "0b3bgDAKXtqf"
      },
      "source": [
        "## <center> Практическое задание"
      ]
    },
    {
      "cell_type": "markdown",
      "metadata": {
        "id": "VLVVKox6Xtqf"
      },
      "source": [
        "**1. Подберите скорость обучения($\\alpha$) и количество итераций:**"
      ]
    },
    {
      "cell_type": "code",
      "execution_count": 20,
      "metadata": {
        "pycharm": {
          "name": "#%%\n"
        },
        "colab": {
          "base_uri": "https://localhost:8080/"
        },
        "id": "KeH-sISNXtqf",
        "outputId": "39bf4924-35e0-47ff-f302-42347feed0ad"
      },
      "outputs": [
        {
          "output_type": "execute_result",
          "data": {
            "text/plain": [
              "(array([1. , 0.5]), 0.0001)"
            ]
          },
          "metadata": {},
          "execution_count": 20
        }
      ],
      "source": [
        "n = X.shape[1]\n",
        "alpha = 1e-04\n",
        "\n",
        "W = np.array([1, 0.5])\n",
        "W, alpha"
      ]
    },
    {
      "cell_type": "code",
      "execution_count": 20,
      "metadata": {
        "id": "D8McU5hTXtqf"
      },
      "outputs": [],
      "source": []
    },
    {
      "cell_type": "code",
      "execution_count": 21,
      "metadata": {
        "pycharm": {
          "name": "#%%\n"
        },
        "colab": {
          "base_uri": "https://localhost:8080/"
        },
        "id": "SKx6LtJlXtqf",
        "outputId": "62967dfd-4b28-4ad6-f28c-1a8b2318d0f7"
      },
      "outputs": [
        {
          "output_type": "stream",
          "name": "stdout",
          "text": [
            "0 [1.01102 0.534  ] 3173.15\n",
            "100 [2.02168794 3.452835  ] 2207.6942101483005\n",
            "200 [2.88306663 5.58962851] 1670.7027004086372\n",
            "300 [3.63289519 7.14848061] 1368.0832412796256\n",
            "400 [4.29908617 8.28027926] 1193.7493344933293\n",
            "500 [4.90228732 9.09657298] 1089.714750358689\n",
            "600 [5.45777535 9.67982684] 1024.2828984889416\n",
            "700 [ 5.97685612 10.0910047 ] 980.1260644155933\n",
            "800 [ 6.46789973 10.37517467] 947.770026039189\n",
            "900 [ 6.93710574 10.56565326] 922.0330206910178\n",
            "1000 [ 7.38906894 10.68706909] 900.0794345405571\n",
            "1100 [ 7.82719761 10.75762786] 880.3560305497828\n",
            "1200 [ 8.25402271 10.7907869 ] 862.0105344693482\n",
            "1300 [ 8.67142649 10.79649311] 844.5738572427321\n",
            "1400 [ 9.08081151 10.78209811] 827.7864098809556\n"
          ]
        }
      ],
      "source": [
        "for i in range(1500):\n",
        "    y_pred = W @ X\n",
        "    err = calc_mse(y, y_pred)\n",
        "    for ii in range(W.shape[0]):\n",
        "        W[ii] -= alpha * (1 / n * 2 * np.sum(X[ii] * (y_pred - y)))\n",
        "    if i % 100 == 0:\n",
        "        print(i, W, err)"
      ]
    },
    {
      "cell_type": "markdown",
      "metadata": {
        "id": "Z5pCr5nWXtqg"
      },
      "source": [
        "Решение:"
      ]
    },
    {
      "cell_type": "code",
      "execution_count": 22,
      "metadata": {
        "pycharm": {
          "name": "#%%\n"
        },
        "id": "OCfzPWG3Xtqg"
      },
      "outputs": [],
      "source": [
        "def grad_desc(X, y, alpha=1e-04, verbose=False, tol=0.0):\n",
        "    '''\n",
        "\n",
        "    :param X: features array\n",
        "    :param y: target array\n",
        "    :param alpha: learning rate, float default=1e-04\n",
        "    :param verbose: prints progress and performance once in a while, bool default False\n",
        "    :param tol: when mse is not improving by at least tol, the searching stops, float default 0.0\n",
        "    :return: weights array, mse\n",
        "    '''\n",
        "    n = X.shape[1]\n",
        "    W = np.array([1, 0.5])  # задаём начальное значение весов\n",
        "    min_err = float('inf')  #начальное значение ошибки модели - бесконечность\n",
        "    n_iter = 0  # отслеживаем количество итераций\n",
        "    stop_chek = True  #будем чекать снижение ошибки\n",
        "    while stop_chek:\n",
        "        n_iter += 1\n",
        "        y_pred = W @ X\n",
        "        err = calc_mse(y, y_pred)\n",
        "        if min_err - err > tol:  # контролируем текущее значение ошибки\n",
        "            min_err = err\n",
        "        else:  # если снижение прекратилось, останавливаемся.\n",
        "            print(\n",
        "                f'Stop descent! iteration: {n_iter}, weights: {W}, mse: {min_err}')\n",
        "            stop_chek = False\n",
        "        for ii in range(W.shape[0]):\n",
        "            W[ii] -= alpha * (1 / n * 2 * np.sum(X[ii] * (y_pred - y)))\n",
        "        if verbose:\n",
        "            if n_iter % 100 == 0:\n",
        "                print(n_iter, W, err)\n",
        "    return W, min_err"
      ]
    },
    {
      "cell_type": "code",
      "execution_count": 23,
      "metadata": {
        "pycharm": {
          "name": "#%%\n"
        },
        "colab": {
          "base_uri": "https://localhost:8080/"
        },
        "id": "bSRubDE4Xtqg",
        "outputId": "ccb6c18a-4c8b-41da-e545-83590caeaca5"
      },
      "outputs": [
        {
          "output_type": "stream",
          "name": "stdout",
          "text": [
            "100 [47.16186867  3.92369094] 45.94052007431746\n",
            "200 [47.23203087  3.91073496] 45.937500007669335\n",
            "Stop descent! iteration: 283, weights: [47.23214229  3.91071439], mse: 45.93750000000017\n"
          ]
        },
        {
          "output_type": "execute_result",
          "data": {
            "text/plain": [
              "(array([47.23214232,  3.91071438]), 45.93750000000017)"
            ]
          },
          "metadata": {},
          "execution_count": 23
        }
      ],
      "source": [
        "W_1, mse_1 = grad_desc(X, y, alpha=0.06, verbose=True)\n",
        "W_1, mse_1"
      ]
    },
    {
      "cell_type": "markdown",
      "metadata": {
        "id": "YAp_zi83Xtqg"
      },
      "source": [
        "при $\\alpha = 0.06$ максимально приблизились к минимуму за $287$ итераций."
      ]
    },
    {
      "cell_type": "markdown",
      "metadata": {
        "id": "DB0Cbn2lXtqg"
      },
      "source": [
        "Визуализируем на графике:"
      ]
    },
    {
      "cell_type": "code",
      "execution_count": 24,
      "metadata": {
        "pycharm": {
          "name": "#%%\n"
        },
        "colab": {
          "base_uri": "https://localhost:8080/",
          "height": 483
        },
        "id": "bJgPbg66Xtqg",
        "outputId": "e62d88e7-1f17-46ac-f242-8e8c8ead7f6d"
      },
      "outputs": [
        {
          "output_type": "display_data",
          "data": {
            "text/plain": [
              "<Figure size 1152x576 with 1 Axes>"
            ],
            "image/png": "[encoded data removed]"
          },
          "metadata": {
            "needs_background": "light"
          }
        }
      ],
      "source": [
        "plt.figure(figsize=(16, 8))\n",
        "plt.scatter(X[1], y)\n",
        "plt.plot(X[1], y_pred1, label='model1')\n",
        "plt.plot(X[1], 40 * np.ones(10) + X[1] * 7.5, label='model2')\n",
        "plt.plot(X[1], W_0[0] + W_0[1] * X[1], label='analytic_model')\n",
        "plt.plot(X[1], W_1[0] + W_1[1] * X[1], label='gd_model')\n",
        "plt.legend(loc='best')\n",
        "plt.show()"
      ]
    },
    {
      "cell_type": "markdown",
      "metadata": {
        "id": "mNC2BXUcXtqg"
      },
      "source": [
        "Видим, что линия регрессии полученная аналитическим методом, и методом градиентного спуска перекрывают друг друга."
      ]
    },
    {
      "cell_type": "markdown",
      "metadata": {
        "id": "UGDD7eMuXtqh"
      },
      "source": [
        "**2\\*. В этом коде мы избавляемся от итераций по весам, но тут есть ошибка, исправьте ее:**"
      ]
    },
    {
      "cell_type": "code",
      "execution_count": 25,
      "metadata": {
        "pycharm": {
          "name": "#%%\n"
        },
        "scrolled": true,
        "colab": {
          "base_uri": "https://localhost:8080/"
        },
        "id": "Hyjh7YpnXtqh",
        "outputId": "2b79eeb5-02cb-41bd-debc-913429e3e091"
      },
      "outputs": [
        {
          "output_type": "stream",
          "name": "stdout",
          "text": [
            "0 [28.012 27.512] 3173.15\n",
            "10 [920.8133364 920.3133364] 7679999.809125753\n",
            "20 [51047.7040571 51047.2040571] 24207581874.947388\n",
            "30 [2865453.40763741 2865452.90763741] 76310318597570.66\n",
            "40 [1.60882026e+08 1.60882025e+08] 2.4055541490033075e+17\n",
            "50 [9.03282155e+09 9.03282155e+09] 7.583103923808137e+20\n",
            "60 [5.07153428e+11 5.07153428e+11] 2.3904456751929813e+24\n",
            "70 [2.84744471e+13 2.84744471e+13] 7.535477007124038e+27\n",
            "80 [1.59871568e+15 1.59871568e+15] 2.3754320926080286e+31\n",
            "90 [8.97608944e+16 8.97608944e+16] 7.488149219030976e+34\n",
            "100 [5.03968168e+18 5.03968168e+18] 2.360512805268678e+38\n",
            "110 [2.82956087e+20 2.82956087e+20] 7.441118680803292e+41\n",
            "120 [1.58867469e+22 1.58867469e+22] 2.3456872209383065e+45\n",
            "130 [8.91971365e+23 8.91971365e+23] 7.394383525514864e+48\n",
            "140 [5.00802914e+25 5.00802914e+25] 2.3309547510999388e+52\n",
            "150 [2.81178936e+27 2.81178936e+27] 7.347941897965165e+55\n",
            "160 [1.57869676e+29 1.57869676e+29] 2.3163148109328867e+59\n",
            "170 [8.86369194e+30 8.86369194e+30] 7.30179195460546e+62\n",
            "180 [4.9765754e+32 4.9765754e+32] 2.3017668192894907e+66\n",
            "190 [2.79412946e+34 2.79412946e+34] 7.255931863465873e+69\n",
            "200 [1.5687815e+36 1.5687815e+36] 2.2873101986721154e+73\n",
            "210 [8.80802208e+37 8.80802208e+37] 7.210359804082345e+76\n",
            "220 [4.94531921e+39 4.94531921e+39] 2.2729443752101776e+80\n",
            "230 [2.77658047e+41 2.77658047e+41] 7.165073967424705e+83\n",
            "240 [1.55892851e+43 1.55892851e+43] 2.2586687786373905e+87\n",
            "250 [8.75270186e+44 8.75270186e+44] 7.120072555824521e+90\n",
            "260 [4.91425933e+46 4.91425933e+46] 2.2444828422691062e+94\n",
            "270 [2.75914171e+48 2.75914171e+48] 7.075353782904015e+97\n",
            "280 [1.54913741e+50 1.54913741e+50] 2.230386002979838e+101\n"
          ]
        }
      ],
      "source": [
        "n = X.shape[1]\n",
        "alpha = 0.06 # будем использовать подобранные нами значения alpha и оптимальное количество итераций\n",
        "\n",
        "W = np.array([1, 0.5])\n",
        "\n",
        "for i in range(287):\n",
        "    y_pred = np.dot(W, X)\n",
        "    err = calc_mse(y, y_pred)\n",
        "    # for ii in range(W.shape[0]):\n",
        "    # W[ii] -= alpha * (1/n * 2 * np.sum(X[ii] * (y_pred - y)))'''\n",
        "    W -= (alpha * (1 / n * 2 * np.sum(X * (y_pred - y))))\n",
        "    if i % 10 == 0:\n",
        "        print(i, W, err)\n"
      ]
    },
    {
      "cell_type": "markdown",
      "metadata": {
        "id": "ms5CkKhsXtqh"
      },
      "source": [
        "Решение:"
      ]
    },
    {
      "cell_type": "code",
      "execution_count": 26,
      "metadata": {
        "colab": {
          "base_uri": "https://localhost:8080/"
        },
        "id": "QCtETf0vXtqh",
        "outputId": "53a7a598-65f6-4158-944d-c6a51416f744"
      },
      "outputs": [
        {
          "output_type": "stream",
          "name": "stdout",
          "text": [
            "0 [ 7.612 20.9  ] 3173.15\n",
            "10 [25.72983979  9.05170097] 364.6834436471202\n",
            "20 [35.85695572  6.15284752] 125.86627725452956\n",
            "30 [41.24888118  5.03270471] 67.85926616474049\n",
            "40 [44.0891315   4.49316871] 51.98014546835954\n",
            "50 [45.5816168   4.21574742] 47.603575735386116\n",
            "60 [46.3654434   4.07078732] 46.39687623882493\n",
            "70 [46.77704197  3.99475582] 46.064160921425916\n",
            "80 [46.99317184  3.95484256] 45.972423420722386\n",
            "90 [47.10666058  3.9338856 ] 45.94712921557662\n",
            "100 [47.16625286  3.92288138] 45.94015500316733\n",
            "110 [47.19754441  3.91710315] 45.9382320473576\n",
            "120 [47.21397542  3.91406904] 45.93770184282278\n",
            "130 [47.22260325  3.91247585] 45.93755565285452\n",
            "140 [47.22713366  3.91163927] 45.93751534481224\n",
            "150 [47.22951256  3.91119999] 45.937504230928766\n",
            "160 [47.2307617   3.91096933] 45.93750116656742\n",
            "170 [47.23141762  3.91084821] 45.937500321650326\n",
            "180 [47.23176204  3.91078461] 45.93750008868662\n",
            "190 [47.23194289  3.91075121] 45.937500024453016\n",
            "200 [47.23203786  3.91073367] 45.937500006742276\n",
            "210 [47.23208772  3.91072447] 45.93750000185901\n",
            "220 [47.23211391  3.91071963] 45.93750000051257\n",
            "230 [47.23212766  3.91071709] 45.937500000141334\n",
            "240 [47.23213487  3.91071576] 45.93750000003898\n",
            "250 [47.23213867  3.91071506] 45.93750000001074\n",
            "260 [47.23214066  3.91071469] 45.937500000002956\n",
            "270 [47.2321417  3.9107145] 45.93750000000081\n",
            "280 [47.23214225  3.9107144 ] 45.93750000000022\n"
          ]
        }
      ],
      "source": [
        "n = X.shape[1]\n",
        "alpha = 0.06\n",
        "\n",
        "W = np.array([1, 0.5])\n",
        "\n",
        "for i in range(287):\n",
        "    y_pred = np.dot(W, X)\n",
        "    err = calc_mse(y, y_pred)\n",
        "    # for ii in range(W.shape[0]):\n",
        "    # W[ii] -= alpha * (1/n * 2 * np.sum(X[ii] * (y_pred - y)))'''\n",
        "    W -= (alpha * (1 / n * 2 * np.sum(X * (y_pred - y), axis=1))) # установим параметр axis=1 в функции np.sum()\n",
        "    if i % 10 == 0:\n",
        "        print(i, W, err)"
      ]
    },
    {
      "cell_type": "markdown",
      "metadata": {
        "id": "QTj7q1phXtqh"
      },
      "source": [
        "На основании решения задач, функция градиентного спуска примет окончательный вид:"
      ]
    },
    {
      "cell_type": "code",
      "execution_count": 27,
      "metadata": {
        "pycharm": {
          "name": "#%%\n"
        },
        "id": "NqG6mUWuXtqh"
      },
      "outputs": [],
      "source": [
        "def my_grad_desc(X, y, alpha=1e-04, verbose=False, tol=0.0):\n",
        "    '''\n",
        "    :param X: features array\n",
        "    :param y: target array\n",
        "    :param alpha: learning rate, float default=1e-04\n",
        "    :param verbose: prints progress and performance once in a while, bool default False\n",
        "    :param tol: when mse is not improving by at least tol, the searching stops, float default 0.0\n",
        "    :return: weights array, mse\n",
        "    \n",
        "    '''\n",
        "    n = X.shape[1]\n",
        "    W = np.array([1, 0.5])  # задаём начальное значение весов\n",
        "    min_err = float('inf')  #начальное значение ошибки модели - бесконечность\n",
        "    n_iter = 0  # отслеживаем количество итераций\n",
        "    stop_chek = True  #будем чекать снижение ошибки\n",
        "    while stop_chek:\n",
        "        n_iter += 1\n",
        "        y_pred = W @ X\n",
        "        err = calc_mse(y, y_pred)\n",
        "        if min_err - err > tol:  # контролируем текущее значение ошибки\n",
        "            min_err = err\n",
        "        else:  # если снижение прекратилось, останавливаемся.\n",
        "            print(\n",
        "                f'Stop descent! iteration: {n_iter}, weights: {W}, mse: {min_err}')\n",
        "            stop_chek = False\n",
        "        W -= alpha * (1 / n * 2 * np.sum(X * (y_pred - y), axis=1))\n",
        "        if verbose:\n",
        "            if n_iter % 100 == 0:\n",
        "                print(n_iter, W, err)\n",
        "    return W, min_err"
      ]
    },
    {
      "cell_type": "code",
      "execution_count": 28,
      "metadata": {
        "pycharm": {
          "name": "#%%\n"
        },
        "colab": {
          "base_uri": "https://localhost:8080/"
        },
        "id": "1Gx5gw7LXtqi",
        "outputId": "7a83e5c9-a0ed-49f9-c3f7-1b4568633120"
      },
      "outputs": [
        {
          "output_type": "stream",
          "name": "stdout",
          "text": [
            "100 [47.16186867  3.92369094] 45.94052007431746\n",
            "200 [47.23203087  3.91073496] 45.937500007669335\n",
            "Stop descent! iteration: 283, weights: [47.23214229  3.91071439], mse: 45.93750000000017\n"
          ]
        },
        {
          "output_type": "execute_result",
          "data": {
            "text/plain": [
              "(array([47.23214232,  3.91071438]), 45.93750000000017)"
            ]
          },
          "metadata": {},
          "execution_count": 28
        }
      ],
      "source": [
        "W_1, mse_1 = my_grad_desc(X, y, alpha=0.06, verbose=True)\n",
        "W_1, mse_1"
      ]
    }
  ],
  "metadata": {
    "kernelspec": {
      "display_name": "Python 3",
      "language": "python",
      "name": "python3"
    },
    "language_info": {
      "codemirror_mode": {
        "name": "ipython",
        "version": 3
      },
      "file_extension": ".py",
      "mimetype": "text/x-python",
      "name": "python",
      "nbconvert_exporter": "python",
      "pygments_lexer": "ipython3",
      "version": "3.8.5"
    },
    "colab": {
      "provenance": []
    }
  },
  "nbformat": 4,
  "nbformat_minor": 0
}